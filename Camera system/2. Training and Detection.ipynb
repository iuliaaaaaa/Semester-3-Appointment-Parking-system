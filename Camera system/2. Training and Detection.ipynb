{
 "cells": [
  {
   "cell_type": "markdown",
   "metadata": {
    "id": "QUANWN3rpfC9"
   },
   "source": [
    "# 0. Setup Paths"
   ]
  },
  {
   "cell_type": "code",
   "execution_count": 1,
   "metadata": {
    "id": "146BB11JpfDA"
   },
   "outputs": [],
   "source": [
    "import os"
   ]
  },
  {
   "cell_type": "code",
   "execution_count": null,
   "metadata": {},
   "outputs": [],
   "source": []
  },
  {
   "cell_type": "code",
   "execution_count": 2,
   "metadata": {
    "id": "42hJEdo_pfDB"
   },
   "outputs": [],
   "source": [
    "CUSTOM_MODEL_NAME = 'my_ssd_mobnet' \n",
    "PRETRAINED_MODEL_NAME = 'ssd_mobilenet_v2_fpnlite_320x320_coco17_tpu-8'\n",
    "PRETRAINED_MODEL_URL = 'http://download.tensorflow.org/models/object_detection/tf2/20200711/ssd_mobilenet_v2_fpnlite_320x320_coco17_tpu-8.tar.gz'\n",
    "TF_RECORD_SCRIPT_NAME = 'generate_tfrecord.py'\n",
    "LABEL_MAP_NAME = 'label_map.pbtxt'"
   ]
  },
  {
   "cell_type": "code",
   "execution_count": 3,
   "metadata": {
    "id": "hbPhYVy_pfDB"
   },
   "outputs": [],
   "source": [
    "paths = {\n",
    "    'WORKSPACE_PATH': os.path.join('Tensorflow', 'workspace'),\n",
    "    'SCRIPTS_PATH': os.path.join('Tensorflow','scripts'),\n",
    "    'APIMODEL_PATH': os.path.join('Tensorflow','models'),\n",
    "    'ANNOTATION_PATH': os.path.join('Tensorflow', 'workspace','annotations'),\n",
    "    'IMAGE_PATH': os.path.join('Tensorflow', 'workspace','images'),\n",
    "    'MODEL_PATH': os.path.join('Tensorflow', 'workspace','models'),\n",
    "    'PRETRAINED_MODEL_PATH': os.path.join('Tensorflow', 'workspace','pre-trained-models'),\n",
    "    'CHECKPOINT_PATH': os.path.join('Tensorflow', 'workspace','models',CUSTOM_MODEL_NAME), \n",
    "    'OUTPUT_PATH': os.path.join('Tensorflow', 'workspace','models',CUSTOM_MODEL_NAME, 'export'), \n",
    "    'TFJS_PATH':os.path.join('Tensorflow', 'workspace','models',CUSTOM_MODEL_NAME, 'tfjsexport'), \n",
    "    'TFLITE_PATH':os.path.join('Tensorflow', 'workspace','models',CUSTOM_MODEL_NAME, 'tfliteexport'), \n",
    "    'PROTOC_PATH':os.path.join('Tensorflow','protoc')\n",
    " }"
   ]
  },
  {
   "cell_type": "code",
   "execution_count": 4,
   "metadata": {
    "id": "LwhWZMI0pfDC"
   },
   "outputs": [],
   "source": [
    "files = {\n",
    "    'PIPELINE_CONFIG':os.path.join('Tensorflow', 'workspace','models', CUSTOM_MODEL_NAME, 'pipeline.config'),\n",
    "    'TF_RECORD_SCRIPT': os.path.join(paths['SCRIPTS_PATH'], TF_RECORD_SCRIPT_NAME), \n",
    "    'LABELMAP': os.path.join(paths['ANNOTATION_PATH'], LABEL_MAP_NAME)\n",
    "}"
   ]
  },
  {
   "cell_type": "code",
   "execution_count": 5,
   "metadata": {
    "id": "HR-TfDGrpfDC"
   },
   "outputs": [],
   "source": [
    "for path in paths.values():\n",
    "    if not os.path.exists(path):\n",
    "        if os.name == 'posix':\n",
    "            !mkdir -p {path}\n",
    "        if os.name == 'nt':\n",
    "            !mkdir {path}"
   ]
  },
  {
   "cell_type": "markdown",
   "metadata": {
    "id": "OLU-rs_ipfDE"
   },
   "source": [
    "# 1. Download TF Models Pretrained Models from Tensorflow Model Zoo and Install TFOD"
   ]
  },
  {
   "cell_type": "code",
   "execution_count": null,
   "metadata": {},
   "outputs": [],
   "source": [
    "# https://www.tensorflow.org/install/source_windows"
   ]
  },
  {
   "cell_type": "code",
   "execution_count": 33,
   "metadata": {
    "id": "K-Cmz2edpfDE"
   },
   "outputs": [
    {
     "name": "stdout",
     "output_type": "stream",
     "text": [
      "Requirement already satisfied: wget in c:\\users\\35988\\desktop\\uni\\software engineering semester 3\\anpr\\anprsys\\lib\\site-packages (3.2)\n"
     ]
    },
    {
     "name": "stderr",
     "output_type": "stream",
     "text": [
      "WARNING: Ignoring invalid distribution -rotobuf (c:\\users\\35988\\desktop\\uni\\software engineering semester 3\\anpr\\anprsys\\lib\\site-packages)\n",
      "WARNING: Ignoring invalid distribution -pencv-python-headless (c:\\users\\35988\\desktop\\uni\\software engineering semester 3\\anpr\\anprsys\\lib\\site-packages)\n",
      "WARNING: Ignoring invalid distribution -ensorflow-gpu (c:\\users\\35988\\desktop\\uni\\software engineering semester 3\\anpr\\anprsys\\lib\\site-packages)\n",
      "WARNING: Ignoring invalid distribution -rotobuf (c:\\users\\35988\\desktop\\uni\\software engineering semester 3\\anpr\\anprsys\\lib\\site-packages)\n",
      "WARNING: Ignoring invalid distribution -pencv-python-headless (c:\\users\\35988\\desktop\\uni\\software engineering semester 3\\anpr\\anprsys\\lib\\site-packages)\n",
      "WARNING: Ignoring invalid distribution -ensorflow-gpu (c:\\users\\35988\\desktop\\uni\\software engineering semester 3\\anpr\\anprsys\\lib\\site-packages)\n",
      "WARNING: Ignoring invalid distribution -rotobuf (c:\\users\\35988\\desktop\\uni\\software engineering semester 3\\anpr\\anprsys\\lib\\site-packages)\n",
      "WARNING: Ignoring invalid distribution -pencv-python-headless (c:\\users\\35988\\desktop\\uni\\software engineering semester 3\\anpr\\anprsys\\lib\\site-packages)\n",
      "WARNING: Ignoring invalid distribution -ensorflow-gpu (c:\\users\\35988\\desktop\\uni\\software engineering semester 3\\anpr\\anprsys\\lib\\site-packages)\n",
      "WARNING: Ignoring invalid distribution -rotobuf (c:\\users\\35988\\desktop\\uni\\software engineering semester 3\\anpr\\anprsys\\lib\\site-packages)\n",
      "WARNING: Ignoring invalid distribution -pencv-python-headless (c:\\users\\35988\\desktop\\uni\\software engineering semester 3\\anpr\\anprsys\\lib\\site-packages)\n",
      "WARNING: Ignoring invalid distribution -ensorflow-gpu (c:\\users\\35988\\desktop\\uni\\software engineering semester 3\\anpr\\anprsys\\lib\\site-packages)\n",
      "WARNING: Ignoring invalid distribution -rotobuf (c:\\users\\35988\\desktop\\uni\\software engineering semester 3\\anpr\\anprsys\\lib\\site-packages)\n",
      "WARNING: Ignoring invalid distribution -pencv-python-headless (c:\\users\\35988\\desktop\\uni\\software engineering semester 3\\anpr\\anprsys\\lib\\site-packages)\n",
      "WARNING: Ignoring invalid distribution -ensorflow-gpu (c:\\users\\35988\\desktop\\uni\\software engineering semester 3\\anpr\\anprsys\\lib\\site-packages)\n",
      "WARNING: Ignoring invalid distribution -rotobuf (c:\\users\\35988\\desktop\\uni\\software engineering semester 3\\anpr\\anprsys\\lib\\site-packages)\n",
      "WARNING: Ignoring invalid distribution -pencv-python-headless (c:\\users\\35988\\desktop\\uni\\software engineering semester 3\\anpr\\anprsys\\lib\\site-packages)\n",
      "WARNING: Ignoring invalid distribution -ensorflow-gpu (c:\\users\\35988\\desktop\\uni\\software engineering semester 3\\anpr\\anprsys\\lib\\site-packages)\n"
     ]
    }
   ],
   "source": [
    "if os.name=='nt':\n",
    "    !pip install wget\n",
    "    import wget"
   ]
  },
  {
   "cell_type": "code",
   "execution_count": null,
   "metadata": {
    "id": "iA1DIq5OpfDE"
   },
   "outputs": [],
   "source": [
    "if not os.path.exists(os.path.join(paths['APIMODEL_PATH'], 'research', 'object_detection')):\n",
    "    !git clone https://github.com/tensorflow/models {paths['APIMODEL_PATH']}"
   ]
  },
  {
   "cell_type": "code",
   "execution_count": null,
   "metadata": {
    "id": "rJjMHbnDs3Tv"
   },
   "outputs": [],
   "source": [
    "# Install Tensorflow Object Detection \n",
    "if os.name=='posix':  \n",
    "    !apt-get install protobuf-compiler\n",
    "    !cd Tensorflow/models/research && protoc object_detection/protos/*.proto --python_out=. && cp object_detection/packages/tf2/setup.py . && python -m pip install . \n",
    "    \n",
    "if os.name=='nt':\n",
    "    url=\"https://github.com/protocolbuffers/protobuf/releases/download/v3.15.6/protoc-3.15.6-win64.zip\"\n",
    "    wget.download(url)\n",
    "    !move protoc-3.15.6-win64.zip {paths['PROTOC_PATH']}\n",
    "    !cd {paths['PROTOC_PATH']} && tar -xf protoc-3.15.6-win64.zip\n",
    "    os.environ['PATH'] += os.pathsep + os.path.abspath(os.path.join(paths['PROTOC_PATH'], 'bin'))   \n",
    "    !cd Tensorflow/models/research && protoc object_detection/protos/*.proto --python_out=. && copy object_detection\\\\packages\\\\tf2\\\\setup.py setup.py && python setup.py build && python setup.py install\n",
    "    !cd Tensorflow/models/research/slim && pip install -e . "
   ]
  },
  {
   "cell_type": "code",
   "execution_count": null,
   "metadata": {},
   "outputs": [],
   "source": [
    "!pip list"
   ]
  },
  {
   "cell_type": "code",
   "execution_count": null,
   "metadata": {},
   "outputs": [],
   "source": [
    "VERIFICATION_SCRIPT = os.path.join(paths['APIMODEL_PATH'], 'research', 'object_detection', 'builders', 'model_builder_tf2_test.py')\n",
    "# Verify Installation\n",
    "!python {VERIFICATION_SCRIPT}"
   ]
  },
  {
   "cell_type": "code",
   "execution_count": null,
   "metadata": {},
   "outputs": [],
   "source": [
    "!pip install tensorflow==2.4.* tensorflow-gpu==2.4.* --upgrade"
   ]
  },
  {
   "cell_type": "code",
   "execution_count": null,
   "metadata": {},
   "outputs": [],
   "source": [
    "!pip install keras==2.3.1"
   ]
  },
  {
   "cell_type": "code",
   "execution_count": null,
   "metadata": {},
   "outputs": [],
   "source": [
    "!pip install tf-models-official==2.4.0"
   ]
  },
  {
   "cell_type": "code",
   "execution_count": null,
   "metadata": {},
   "outputs": [],
   "source": [
    "!pip uninstall protobuf matplotlib -y\n",
    "!pip install protobuf==3.20 matplotlib==3.2"
   ]
  },
  {
   "cell_type": "code",
   "execution_count": 7,
   "metadata": {},
   "outputs": [],
   "source": [
    "import object_detection"
   ]
  },
  {
   "cell_type": "code",
   "execution_count": null,
   "metadata": {},
   "outputs": [],
   "source": [
    "!pip list"
   ]
  },
  {
   "cell_type": "code",
   "execution_count": 8,
   "metadata": {
    "colab": {
     "base_uri": "https://localhost:8080/"
    },
    "id": "csofht2npfDE",
    "outputId": "ff5471b2-bed2-43f2-959c-327a706527b6"
   },
   "outputs": [
    {
     "name": "stdout",
     "output_type": "stream",
     "text": [
      "\r",
      "  0% [                                                                        ]        0 / 20515344\r",
      "  0% [                                                                        ]     8192 / 20515344\r",
      "  0% [                                                                        ]    16384 / 20515344\r",
      "  0% [                                                                        ]    24576 / 20515344\r",
      "  0% [                                                                        ]    32768 / 20515344\r",
      "  0% [                                                                        ]    40960 / 20515344\r",
      "  0% [                                                                        ]    49152 / 20515344\r",
      "  0% [                                                                        ]    57344 / 20515344\r",
      "  0% [                                                                        ]    65536 / 20515344\r",
      "  0% [                                                                        ]    73728 / 20515344\r",
      "  0% [                                                                        ]    81920 / 20515344\r",
      "  0% [                                                                        ]    90112 / 20515344\r",
      "  0% [                                                                        ]    98304 / 20515344\r",
      "  0% [                                                                        ]   106496 / 20515344\r",
      "  0% [                                                                        ]   114688 / 20515344\r",
      "  0% [                                                                        ]   122880 / 20515344\r",
      "  0% [                                                                        ]   131072 / 20515344\r",
      "  0% [                                                                        ]   139264 / 20515344\r",
      "  0% [                                                                        ]   147456 / 20515344\r",
      "  0% [                                                                        ]   155648 / 20515344\r",
      "  0% [                                                                        ]   163840 / 20515344\r",
      "  0% [                                                                        ]   172032 / 20515344\r",
      "  0% [                                                                        ]   180224 / 20515344\r",
      "  0% [                                                                        ]   188416 / 20515344\r",
      "  0% [                                                                        ]   196608 / 20515344\r",
      "  0% [                                                                        ]   204800 / 20515344\r",
      "  1% [                                                                        ]   212992 / 20515344\r",
      "  1% [                                                                        ]   221184 / 20515344\r",
      "  1% [                                                                        ]   229376 / 20515344\r",
      "  1% [                                                                        ]   237568 / 20515344\r",
      "  1% [                                                                        ]   245760 / 20515344\r",
      "  1% [                                                                        ]   253952 / 20515344\r",
      "  1% [                                                                        ]   262144 / 20515344\r",
      "  1% [                                                                        ]   270336 / 20515344\r",
      "  1% [                                                                        ]   278528 / 20515344\r",
      "  1% [.                                                                       ]   286720 / 20515344\r",
      "  1% [.                                                                       ]   294912 / 20515344\r",
      "  1% [.                                                                       ]   303104 / 20515344\r",
      "  1% [.                                                                       ]   311296 / 20515344\r",
      "  1% [.                                                                       ]   319488 / 20515344\r",
      "  1% [.                                                                       ]   327680 / 20515344\r",
      "  1% [.                                                                       ]   335872 / 20515344\r",
      "  1% [.                                                                       ]   344064 / 20515344\r",
      "  1% [.                                                                       ]   352256 / 20515344\r",
      "  1% [.                                                                       ]   360448 / 20515344\r",
      "  1% [.                                                                       ]   368640 / 20515344\r",
      "  1% [.                                                                       ]   376832 / 20515344\r",
      "  1% [.                                                                       ]   385024 / 20515344\r",
      "  1% [.                                                                       ]   393216 / 20515344\r",
      "  1% [.                                                                       ]   401408 / 20515344\r",
      "  1% [.                                                                       ]   409600 / 20515344\r",
      "  2% [.                                                                       ]   417792 / 20515344\r",
      "  2% [.                                                                       ]   425984 / 20515344\r",
      "  2% [.                                                                       ]   434176 / 20515344\r",
      "  2% [.                                                                       ]   442368 / 20515344\r",
      "  2% [.                                                                       ]   450560 / 20515344\r",
      "  2% [.                                                                       ]   458752 / 20515344\r",
      "  2% [.                                                                       ]   466944 / 20515344\r",
      "  2% [.                                                                       ]   475136 / 20515344\r",
      "  2% [.                                                                       ]   483328 / 20515344\r",
      "  2% [.                                                                       ]   491520 / 20515344\r",
      "  2% [.                                                                       ]   499712 / 20515344\r",
      "  2% [.                                                                       ]   507904 / 20515344\r",
      "  2% [.                                                                       ]   516096 / 20515344\r",
      "  2% [.                                                                       ]   524288 / 20515344\r",
      "  2% [.                                                                       ]   532480 / 20515344\r",
      "  2% [.                                                                       ]   540672 / 20515344\r",
      "  2% [.                                                                       ]   548864 / 20515344\r",
      "  2% [.                                                                       ]   557056 / 20515344\r",
      "  2% [.                                                                       ]   565248 / 20515344\r",
      "  2% [..                                                                      ]   573440 / 20515344\r",
      "  2% [..                                                                      ]   581632 / 20515344\r",
      "  2% [..                                                                      ]   589824 / 20515344\r",
      "  2% [..                                                                      ]   598016 / 20515344\r",
      "  2% [..                                                                      ]   606208 / 20515344\r",
      "  2% [..                                                                      ]   614400 / 20515344\r",
      "  3% [..                                                                      ]   622592 / 20515344\r",
      "  3% [..                                                                      ]   630784 / 20515344\r",
      "  3% [..                                                                      ]   638976 / 20515344\r",
      "  3% [..                                                                      ]   647168 / 20515344\r",
      "  3% [..                                                                      ]   655360 / 20515344\r",
      "  3% [..                                                                      ]   663552 / 20515344\r",
      "  3% [..                                                                      ]   671744 / 20515344\r",
      "  3% [..                                                                      ]   679936 / 20515344\r",
      "  3% [..                                                                      ]   688128 / 20515344\r",
      "  3% [..                                                                      ]   696320 / 20515344\r",
      "  3% [..                                                                      ]   704512 / 20515344\r",
      "  3% [..                                                                      ]   712704 / 20515344\r",
      "  3% [..                                                                      ]   720896 / 20515344\r",
      "  3% [..                                                                      ]   729088 / 20515344\r",
      "  3% [..                                                                      ]   737280 / 20515344\r",
      "  3% [..                                                                      ]   745472 / 20515344\r",
      "  3% [..                                                                      ]   753664 / 20515344\r",
      "  3% [..                                                                      ]   761856 / 20515344\r",
      "  3% [..                                                                      ]   770048 / 20515344\r",
      "  3% [..                                                                      ]   778240 / 20515344\r",
      "  3% [..                                                                      ]   786432 / 20515344\r",
      "  3% [..                                                                      ]   794624 / 20515344\r",
      "  3% [..                                                                      ]   802816 / 20515344\r",
      "  3% [..                                                                      ]   811008 / 20515344\r",
      "  3% [..                                                                      ]   819200 / 20515344\r",
      "  4% [..                                                                      ]   827392 / 20515344\r",
      "  4% [..                                                                      ]   835584 / 20515344\r",
      "  4% [..                                                                      ]   843776 / 20515344\r",
      "  4% [..                                                                      ]   851968 / 20515344\r",
      "  4% [...                                                                     ]   860160 / 20515344\r",
      "  4% [...                                                                     ]   868352 / 20515344\r",
      "  4% [...                                                                     ]   876544 / 20515344\r",
      "  4% [...                                                                     ]   884736 / 20515344\r",
      "  4% [...                                                                     ]   892928 / 20515344\r",
      "  4% [...                                                                     ]   901120 / 20515344\r",
      "  4% [...                                                                     ]   909312 / 20515344\r",
      "  4% [...                                                                     ]   917504 / 20515344\r",
      "  4% [...                                                                     ]   925696 / 20515344\r",
      "  4% [...                                                                     ]   933888 / 20515344\r",
      "  4% [...                                                                     ]   942080 / 20515344\r",
      "  4% [...                                                                     ]   950272 / 20515344\r",
      "  4% [...                                                                     ]   958464 / 20515344\r",
      "  4% [...                                                                     ]   966656 / 20515344\r",
      "  4% [...                                                                     ]   974848 / 20515344\r",
      "  4% [...                                                                     ]   983040 / 20515344\r",
      "  4% [...                                                                     ]   991232 / 20515344\r",
      "  4% [...                                                                     ]   999424 / 20515344\r",
      "  4% [...                                                                     ]  1007616 / 20515344\r",
      "  4% [...                                                                     ]  1015808 / 20515344\r",
      "  4% [...                                                                     ]  1024000 / 20515344\r",
      "  5% [...                                                                     ]  1032192 / 20515344\r",
      "  5% [...                                                                     ]  1040384 / 20515344\r",
      "  5% [...                                                                     ]  1048576 / 20515344\r",
      "  5% [...                                                                     ]  1056768 / 20515344\r",
      "  5% [...                                                                     ]  1064960 / 20515344\r",
      "  5% [...                                                                     ]  1073152 / 20515344\r",
      "  5% [...                                                                     ]  1081344 / 20515344\r",
      "  5% [...                                                                     ]  1089536 / 20515344\r",
      "  5% [...                                                                     ]  1097728 / 20515344\r",
      "  5% [...                                                                     ]  1105920 / 20515344\r",
      "  5% [...                                                                     ]  1114112 / 20515344\r",
      "  5% [...                                                                     ]  1122304 / 20515344\r",
      "  5% [...                                                                     ]  1130496 / 20515344\r",
      "  5% [...                                                                     ]  1138688 / 20515344\r",
      "  5% [....                                                                    ]  1146880 / 20515344\r",
      "  5% [....                                                                    ]  1155072 / 20515344\r",
      "  5% [....                                                                    ]  1163264 / 20515344\r",
      "  5% [....                                                                    ]  1171456 / 20515344\r",
      "  5% [....                                                                    ]  1179648 / 20515344\r",
      "  5% [....                                                                    ]  1187840 / 20515344\r",
      "  5% [....                                                                    ]  1196032 / 20515344\r",
      "  5% [....                                                                    ]  1204224 / 20515344\r",
      "  5% [....                                                                    ]  1212416 / 20515344\r",
      "  5% [....                                                                    ]  1220608 / 20515344\r",
      "  5% [....                                                                    ]  1228800 / 20515344\r",
      "  6% [....                                                                    ]  1236992 / 20515344\r",
      "  6% [....                                                                    ]  1245184 / 20515344\r",
      "  6% [....                                                                    ]  1253376 / 20515344\r",
      "  6% [....                                                                    ]  1261568 / 20515344\r",
      "  6% [....                                                                    ]  1269760 / 20515344"
     ]
    },
    {
     "name": "stdout",
     "output_type": "stream",
     "text": [
      "\r",
      "  6% [....                                                                    ]  1277952 / 20515344\r",
      "  6% [....                                                                    ]  1286144 / 20515344\r",
      "  6% [....                                                                    ]  1294336 / 20515344\r",
      "  6% [....                                                                    ]  1302528 / 20515344\r",
      "  6% [....                                                                    ]  1310720 / 20515344\r",
      "  6% [....                                                                    ]  1318912 / 20515344\r",
      "  6% [....                                                                    ]  1327104 / 20515344\r",
      "  6% [....                                                                    ]  1335296 / 20515344\r",
      "  6% [....                                                                    ]  1343488 / 20515344\r",
      "  6% [....                                                                    ]  1351680 / 20515344\r",
      "  6% [....                                                                    ]  1359872 / 20515344\r",
      "  6% [....                                                                    ]  1368064 / 20515344\r",
      "  6% [....                                                                    ]  1376256 / 20515344\r",
      "  6% [....                                                                    ]  1384448 / 20515344\r",
      "  6% [....                                                                    ]  1392640 / 20515344\r",
      "  6% [....                                                                    ]  1400832 / 20515344\r",
      "  6% [....                                                                    ]  1409024 / 20515344\r",
      "  6% [....                                                                    ]  1417216 / 20515344\r",
      "  6% [.....                                                                   ]  1425408 / 20515344\r",
      "  6% [.....                                                                   ]  1433600 / 20515344\r",
      "  7% [.....                                                                   ]  1441792 / 20515344\r",
      "  7% [.....                                                                   ]  1449984 / 20515344\r",
      "  7% [.....                                                                   ]  1458176 / 20515344\r",
      "  7% [.....                                                                   ]  1466368 / 20515344\r",
      "  7% [.....                                                                   ]  1474560 / 20515344\r",
      "  7% [.....                                                                   ]  1482752 / 20515344\r",
      "  7% [.....                                                                   ]  1490944 / 20515344\r",
      "  7% [.....                                                                   ]  1499136 / 20515344\r",
      "  7% [.....                                                                   ]  1507328 / 20515344\r",
      "  7% [.....                                                                   ]  1515520 / 20515344\r",
      "  7% [.....                                                                   ]  1523712 / 20515344\r",
      "  7% [.....                                                                   ]  1531904 / 20515344\r",
      "  7% [.....                                                                   ]  1540096 / 20515344\r",
      "  7% [.....                                                                   ]  1548288 / 20515344\r",
      "  7% [.....                                                                   ]  1556480 / 20515344\r",
      "  7% [.....                                                                   ]  1564672 / 20515344\r",
      "  7% [.....                                                                   ]  1572864 / 20515344\r",
      "  7% [.....                                                                   ]  1581056 / 20515344\r",
      "  7% [.....                                                                   ]  1589248 / 20515344\r",
      "  7% [.....                                                                   ]  1597440 / 20515344\r",
      "  7% [.....                                                                   ]  1605632 / 20515344\r",
      "  7% [.....                                                                   ]  1613824 / 20515344\r",
      "  7% [.....                                                                   ]  1622016 / 20515344\r",
      "  7% [.....                                                                   ]  1630208 / 20515344\r",
      "  7% [.....                                                                   ]  1638400 / 20515344\r",
      "  8% [.....                                                                   ]  1646592 / 20515344\r",
      "  8% [.....                                                                   ]  1654784 / 20515344\r",
      "  8% [.....                                                                   ]  1662976 / 20515344\r",
      "  8% [.....                                                                   ]  1671168 / 20515344\r",
      "  8% [.....                                                                   ]  1679360 / 20515344\r",
      "  8% [.....                                                                   ]  1687552 / 20515344\r",
      "  8% [.....                                                                   ]  1695744 / 20515344\r",
      "  8% [.....                                                                   ]  1703936 / 20515344\r",
      "  8% [......                                                                  ]  1712128 / 20515344\r",
      "  8% [......                                                                  ]  1720320 / 20515344\r",
      "  8% [......                                                                  ]  1728512 / 20515344\r",
      "  8% [......                                                                  ]  1736704 / 20515344\r",
      "  8% [......                                                                  ]  1744896 / 20515344\r",
      "  8% [......                                                                  ]  1753088 / 20515344\r",
      "  8% [......                                                                  ]  1761280 / 20515344\r",
      "  8% [......                                                                  ]  1769472 / 20515344\r",
      "  8% [......                                                                  ]  1777664 / 20515344\r",
      "  8% [......                                                                  ]  1785856 / 20515344\r",
      "  8% [......                                                                  ]  1794048 / 20515344\r",
      "  8% [......                                                                  ]  1802240 / 20515344\r",
      "  8% [......                                                                  ]  1810432 / 20515344\r",
      "  8% [......                                                                  ]  1818624 / 20515344\r",
      "  8% [......                                                                  ]  1826816 / 20515344\r",
      "  8% [......                                                                  ]  1835008 / 20515344\r",
      "  8% [......                                                                  ]  1843200 / 20515344\r",
      "  9% [......                                                                  ]  1851392 / 20515344\r",
      "  9% [......                                                                  ]  1859584 / 20515344\r",
      "  9% [......                                                                  ]  1867776 / 20515344\r",
      "  9% [......                                                                  ]  1875968 / 20515344\r",
      "  9% [......                                                                  ]  1884160 / 20515344\r",
      "  9% [......                                                                  ]  1892352 / 20515344\r",
      "  9% [......                                                                  ]  1900544 / 20515344\r",
      "  9% [......                                                                  ]  1908736 / 20515344\r",
      "  9% [......                                                                  ]  1916928 / 20515344\r",
      "  9% [......                                                                  ]  1925120 / 20515344\r",
      "  9% [......                                                                  ]  1933312 / 20515344\r",
      "  9% [......                                                                  ]  1941504 / 20515344\r",
      "  9% [......                                                                  ]  1949696 / 20515344\r",
      "  9% [......                                                                  ]  1957888 / 20515344\r",
      "  9% [......                                                                  ]  1966080 / 20515344\r",
      "  9% [......                                                                  ]  1974272 / 20515344\r",
      "  9% [......                                                                  ]  1982464 / 20515344\r",
      "  9% [......                                                                  ]  1990656 / 20515344\r",
      "  9% [.......                                                                 ]  1998848 / 20515344\r",
      "  9% [.......                                                                 ]  2007040 / 20515344\r",
      "  9% [.......                                                                 ]  2015232 / 20515344\r",
      "  9% [.......                                                                 ]  2023424 / 20515344\r",
      "  9% [.......                                                                 ]  2031616 / 20515344\r",
      "  9% [.......                                                                 ]  2039808 / 20515344\r",
      "  9% [.......                                                                 ]  2048000 / 20515344\r",
      " 10% [.......                                                                 ]  2056192 / 20515344\r",
      " 10% [.......                                                                 ]  2064384 / 20515344\r",
      " 10% [.......                                                                 ]  2072576 / 20515344\r",
      " 10% [.......                                                                 ]  2080768 / 20515344\r",
      " 10% [.......                                                                 ]  2088960 / 20515344\r",
      " 10% [.......                                                                 ]  2097152 / 20515344\r",
      " 10% [.......                                                                 ]  2105344 / 20515344\r",
      " 10% [.......                                                                 ]  2113536 / 20515344\r",
      " 10% [.......                                                                 ]  2121728 / 20515344\r",
      " 10% [.......                                                                 ]  2129920 / 20515344\r",
      " 10% [.......                                                                 ]  2138112 / 20515344\r",
      " 10% [.......                                                                 ]  2146304 / 20515344\r",
      " 10% [.......                                                                 ]  2154496 / 20515344\r",
      " 10% [.......                                                                 ]  2162688 / 20515344\r",
      " 10% [.......                                                                 ]  2170880 / 20515344\r",
      " 10% [.......                                                                 ]  2179072 / 20515344\r",
      " 10% [.......                                                                 ]  2187264 / 20515344\r",
      " 10% [.......                                                                 ]  2195456 / 20515344\r",
      " 10% [.......                                                                 ]  2203648 / 20515344\r",
      " 10% [.......                                                                 ]  2211840 / 20515344\r",
      " 10% [.......                                                                 ]  2220032 / 20515344\r",
      " 10% [.......                                                                 ]  2228224 / 20515344\r",
      " 10% [.......                                                                 ]  2236416 / 20515344\r",
      " 10% [.......                                                                 ]  2244608 / 20515344\r",
      " 10% [.......                                                                 ]  2252800 / 20515344\r",
      " 11% [.......                                                                 ]  2260992 / 20515344\r",
      " 11% [.......                                                                 ]  2269184 / 20515344\r",
      " 11% [.......                                                                 ]  2277376 / 20515344\r",
      " 11% [........                                                                ]  2285568 / 20515344\r",
      " 11% [........                                                                ]  2293760 / 20515344\r",
      " 11% [........                                                                ]  2301952 / 20515344\r",
      " 11% [........                                                                ]  2310144 / 20515344\r",
      " 11% [........                                                                ]  2318336 / 20515344\r",
      " 11% [........                                                                ]  2326528 / 20515344\r",
      " 11% [........                                                                ]  2334720 / 20515344\r",
      " 11% [........                                                                ]  2342912 / 20515344\r",
      " 11% [........                                                                ]  2351104 / 20515344\r",
      " 11% [........                                                                ]  2359296 / 20515344\r",
      " 11% [........                                                                ]  2367488 / 20515344\r",
      " 11% [........                                                                ]  2375680 / 20515344\r",
      " 11% [........                                                                ]  2383872 / 20515344\r",
      " 11% [........                                                                ]  2392064 / 20515344\r",
      " 11% [........                                                                ]  2400256 / 20515344\r",
      " 11% [........                                                                ]  2408448 / 20515344\r",
      " 11% [........                                                                ]  2416640 / 20515344\r",
      " 11% [........                                                                ]  2424832 / 20515344\r",
      " 11% [........                                                                ]  2433024 / 20515344\r",
      " 11% [........                                                                ]  2441216 / 20515344\r",
      " 11% [........                                                                ]  2449408 / 20515344\r",
      " 11% [........                                                                ]  2457600 / 20515344\r",
      " 12% [........                                                                ]  2465792 / 20515344\r",
      " 12% [........                                                                ]  2473984 / 20515344\r",
      " 12% [........                                                                ]  2482176 / 20515344\r",
      " 12% [........                                                                ]  2490368 / 20515344\r",
      " 12% [........                                                                ]  2498560 / 20515344\r",
      " 12% [........                                                                ]  2506752 / 20515344\r",
      " 12% [........                                                                ]  2514944 / 20515344\r",
      " 12% [........                                                                ]  2523136 / 20515344\r",
      " 12% [........                                                                ]  2531328 / 20515344\r",
      " 12% [........                                                                ]  2539520 / 20515344\r",
      " 12% [........                                                                ]  2547712 / 20515344\r",
      " 12% [........                                                                ]  2555904 / 20515344\r",
      " 12% [........                                                                ]  2564096 / 20515344\r",
      " 12% [.........                                                               ]  2572288 / 20515344\r",
      " 12% [.........                                                               ]  2580480 / 20515344\r",
      " 12% [.........                                                               ]  2588672 / 20515344\r",
      " 12% [.........                                                               ]  2596864 / 20515344\r",
      " 12% [.........                                                               ]  2605056 / 20515344\r",
      " 12% [.........                                                               ]  2613248 / 20515344\r",
      " 12% [.........                                                               ]  2621440 / 20515344\r",
      " 12% [.........                                                               ]  2629632 / 20515344\r",
      " 12% [.........                                                               ]  2637824 / 20515344\r",
      " 12% [.........                                                               ]  2646016 / 20515344\r",
      " 12% [.........                                                               ]  2654208 / 20515344\r",
      " 12% [.........                                                               ]  2662400 / 20515344\r",
      " 13% [.........                                                               ]  2670592 / 20515344\r",
      " 13% [.........                                                               ]  2678784 / 20515344\r",
      " 13% [.........                                                               ]  2686976 / 20515344\r",
      " 13% [.........                                                               ]  2695168 / 20515344\r",
      " 13% [.........                                                               ]  2703360 / 20515344\r",
      " 13% [.........                                                               ]  2711552 / 20515344\r",
      " 13% [.........                                                               ]  2719744 / 20515344\r",
      " 13% [.........                                                               ]  2727936 / 20515344\r",
      " 13% [.........                                                               ]  2736128 / 20515344\r",
      " 13% [.........                                                               ]  2744320 / 20515344\r",
      " 13% [.........                                                               ]  2752512 / 20515344\r",
      " 13% [.........                                                               ]  2760704 / 20515344\r",
      " 13% [.........                                                               ]  2768896 / 20515344\r",
      " 13% [.........                                                               ]  2777088 / 20515344\r",
      " 13% [.........                                                               ]  2785280 / 20515344\r",
      " 13% [.........                                                               ]  2793472 / 20515344\r",
      " 13% [.........                                                               ]  2801664 / 20515344\r",
      " 13% [.........                                                               ]  2809856 / 20515344\r",
      " 13% [.........                                                               ]  2818048 / 20515344\r",
      " 13% [.........                                                               ]  2826240 / 20515344\r",
      " 13% [.........                                                               ]  2834432 / 20515344\r",
      " 13% [.........                                                               ]  2842624 / 20515344\r",
      " 13% [..........                                                              ]  2850816 / 20515344\r",
      " 13% [..........                                                              ]  2859008 / 20515344\r",
      " 13% [..........                                                              ]  2867200 / 20515344\r",
      " 14% [..........                                                              ]  2875392 / 20515344\r",
      " 14% [..........                                                              ]  2883584 / 20515344\r",
      " 14% [..........                                                              ]  2891776 / 20515344\r",
      " 14% [..........                                                              ]  2899968 / 20515344\r",
      " 14% [..........                                                              ]  2908160 / 20515344\r",
      " 14% [..........                                                              ]  2916352 / 20515344\r",
      " 14% [..........                                                              ]  2924544 / 20515344\r",
      " 14% [..........                                                              ]  2932736 / 20515344\r",
      " 14% [..........                                                              ]  2940928 / 20515344\r",
      " 14% [..........                                                              ]  2949120 / 20515344\r",
      " 14% [..........                                                              ]  2957312 / 20515344\r",
      " 14% [..........                                                              ]  2965504 / 20515344\r",
      " 14% [..........                                                              ]  2973696 / 20515344\r",
      " 14% [..........                                                              ]  2981888 / 20515344\r",
      " 14% [..........                                                              ]  2990080 / 20515344\r",
      " 14% [..........                                                              ]  2998272 / 20515344\r",
      " 14% [..........                                                              ]  3006464 / 20515344\r",
      " 14% [..........                                                              ]  3014656 / 20515344\r",
      " 14% [..........                                                              ]  3022848 / 20515344\r",
      " 14% [..........                                                              ]  3031040 / 20515344\r",
      " 14% [..........                                                              ]  3039232 / 20515344\r",
      " 14% [..........                                                              ]  3047424 / 20515344\r",
      " 14% [..........                                                              ]  3055616 / 20515344\r",
      " 14% [..........                                                              ]  3063808 / 20515344\r",
      " 14% [..........                                                              ]  3072000 / 20515344\r",
      " 15% [..........                                                              ]  3080192 / 20515344\r",
      " 15% [..........                                                              ]  3088384 / 20515344\r",
      " 15% [..........                                                              ]  3096576 / 20515344\r",
      " 15% [..........                                                              ]  3104768 / 20515344\r",
      " 15% [..........                                                              ]  3112960 / 20515344\r",
      " 15% [..........                                                              ]  3121152 / 20515344\r",
      " 15% [..........                                                              ]  3129344 / 20515344\r",
      " 15% [...........                                                             ]  3137536 / 20515344\r",
      " 15% [...........                                                             ]  3145728 / 20515344\r",
      " 15% [...........                                                             ]  3153920 / 20515344\r",
      " 15% [...........                                                             ]  3162112 / 20515344\r",
      " 15% [...........                                                             ]  3170304 / 20515344\r",
      " 15% [...........                                                             ]  3178496 / 20515344\r",
      " 15% [...........                                                             ]  3186688 / 20515344\r",
      " 15% [...........                                                             ]  3194880 / 20515344\r",
      " 15% [...........                                                             ]  3203072 / 20515344\r",
      " 15% [...........                                                             ]  3211264 / 20515344\r",
      " 15% [...........                                                             ]  3219456 / 20515344\r",
      " 15% [...........                                                             ]  3227648 / 20515344\r",
      " 15% [...........                                                             ]  3235840 / 20515344\r",
      " 15% [...........                                                             ]  3244032 / 20515344\r",
      " 15% [...........                                                             ]  3252224 / 20515344\r",
      " 15% [...........                                                             ]  3260416 / 20515344\r",
      " 15% [...........                                                             ]  3268608 / 20515344\r",
      " 15% [...........                                                             ]  3276800 / 20515344\r",
      " 16% [...........                                                             ]  3284992 / 20515344\r",
      " 16% [...........                                                             ]  3293184 / 20515344\r",
      " 16% [...........                                                             ]  3301376 / 20515344\r",
      " 16% [...........                                                             ]  3309568 / 20515344\r",
      " 16% [...........                                                             ]  3317760 / 20515344\r",
      " 16% [...........                                                             ]  3325952 / 20515344\r",
      " 16% [...........                                                             ]  3334144 / 20515344\r",
      " 16% [...........                                                             ]  3342336 / 20515344\r",
      " 16% [...........                                                             ]  3350528 / 20515344\r",
      " 16% [...........                                                             ]  3358720 / 20515344\r",
      " 16% [...........                                                             ]  3366912 / 20515344\r",
      " 16% [...........                                                             ]  3375104 / 20515344\r",
      " 16% [...........                                                             ]  3383296 / 20515344\r",
      " 16% [...........                                                             ]  3391488 / 20515344\r",
      " 16% [...........                                                             ]  3399680 / 20515344\r",
      " 16% [...........                                                             ]  3407872 / 20515344\r",
      " 16% [...........                                                             ]  3416064 / 20515344\r",
      " 16% [............                                                            ]  3424256 / 20515344\r",
      " 16% [............                                                            ]  3432448 / 20515344\r",
      " 16% [............                                                            ]  3440640 / 20515344\r",
      " 16% [............                                                            ]  3448832 / 20515344\r",
      " 16% [............                                                            ]  3457024 / 20515344\r",
      " 16% [............                                                            ]  3465216 / 20515344\r",
      " 16% [............                                                            ]  3473408 / 20515344\r",
      " 16% [............                                                            ]  3481600 / 20515344\r",
      " 17% [............                                                            ]  3489792 / 20515344\r",
      " 17% [............                                                            ]  3497984 / 20515344\r",
      " 17% [............                                                            ]  3506176 / 20515344\r",
      " 17% [............                                                            ]  3514368 / 20515344\r",
      " 17% [............                                                            ]  3522560 / 20515344\r",
      " 17% [............                                                            ]  3530752 / 20515344\r",
      " 17% [............                                                            ]  3538944 / 20515344\r",
      " 17% [............                                                            ]  3547136 / 20515344\r",
      " 17% [............                                                            ]  3555328 / 20515344\r",
      " 17% [............                                                            ]  3563520 / 20515344\r",
      " 17% [............                                                            ]  3571712 / 20515344\r",
      " 17% [............                                                            ]  3579904 / 20515344\r",
      " 17% [............                                                            ]  3588096 / 20515344\r",
      " 17% [............                                                            ]  3596288 / 20515344\r",
      " 17% [............                                                            ]  3604480 / 20515344\r",
      " 17% [............                                                            ]  3612672 / 20515344\r",
      " 17% [............                                                            ]  3620864 / 20515344\r",
      " 17% [............                                                            ]  3629056 / 20515344\r",
      " 17% [............                                                            ]  3637248 / 20515344\r",
      " 17% [............                                                            ]  3645440 / 20515344\r",
      " 17% [............                                                            ]  3653632 / 20515344\r",
      " 17% [............                                                            ]  3661824 / 20515344\r",
      " 17% [............                                                            ]  3670016 / 20515344\r",
      " 17% [............                                                            ]  3678208 / 20515344\r",
      " 17% [............                                                            ]  3686400 / 20515344\r",
      " 18% [............                                                            ]  3694592 / 20515344\r",
      " 18% [............                                                            ]  3702784 / 20515344\r",
      " 18% [.............                                                           ]  3710976 / 20515344\r",
      " 18% [.............                                                           ]  3719168 / 20515344\r",
      " 18% [.............                                                           ]  3727360 / 20515344\r",
      " 18% [.............                                                           ]  3735552 / 20515344\r",
      " 18% [.............                                                           ]  3743744 / 20515344\r",
      " 18% [.............                                                           ]  3751936 / 20515344\r",
      " 18% [.............                                                           ]  3760128 / 20515344\r",
      " 18% [.............                                                           ]  3768320 / 20515344\r",
      " 18% [.............                                                           ]  3776512 / 20515344\r",
      " 18% [.............                                                           ]  3784704 / 20515344\r",
      " 18% [.............                                                           ]  3792896 / 20515344\r",
      " 18% [.............                                                           ]  3801088 / 20515344\r",
      " 18% [.............                                                           ]  3809280 / 20515344\r",
      " 18% [.............                                                           ]  3817472 / 20515344\r",
      " 18% [.............                                                           ]  3825664 / 20515344\r",
      " 18% [.............                                                           ]  3833856 / 20515344\r",
      " 18% [.............                                                           ]  3842048 / 20515344\r",
      " 18% [.............                                                           ]  3850240 / 20515344\r",
      " 18% [.............                                                           ]  3858432 / 20515344\r",
      " 18% [.............                                                           ]  3866624 / 20515344\r",
      " 18% [.............                                                           ]  3874816 / 20515344\r",
      " 18% [.............                                                           ]  3883008 / 20515344\r",
      " 18% [.............                                                           ]  3891200 / 20515344\r",
      " 19% [.............                                                           ]  3899392 / 20515344\r",
      " 19% [.............                                                           ]  3907584 / 20515344\r",
      " 19% [.............                                                           ]  3915776 / 20515344\r",
      " 19% [.............                                                           ]  3923968 / 20515344\r",
      " 19% [.............                                                           ]  3932160 / 20515344\r",
      " 19% [.............                                                           ]  3940352 / 20515344\r",
      " 19% [.............                                                           ]  3948544 / 20515344\r",
      " 19% [.............                                                           ]  3956736 / 20515344\r",
      " 19% [.............                                                           ]  3964928 / 20515344\r",
      " 19% [.............                                                           ]  3973120 / 20515344\r",
      " 19% [.............                                                           ]  3981312 / 20515344\r",
      " 19% [..............                                                          ]  3989504 / 20515344\r",
      " 19% [..............                                                          ]  3997696 / 20515344\r",
      " 19% [..............                                                          ]  4005888 / 20515344\r",
      " 19% [..............                                                          ]  4014080 / 20515344\r",
      " 19% [..............                                                          ]  4022272 / 20515344\r",
      " 19% [..............                                                          ]  4030464 / 20515344\r",
      " 19% [..............                                                          ]  4038656 / 20515344\r",
      " 19% [..............                                                          ]  4046848 / 20515344\r",
      " 19% [..............                                                          ]  4055040 / 20515344\r",
      " 19% [..............                                                          ]  4063232 / 20515344\r",
      " 19% [..............                                                          ]  4071424 / 20515344\r",
      " 19% [..............                                                          ]  4079616 / 20515344\r",
      " 19% [..............                                                          ]  4087808 / 20515344\r",
      " 19% [..............                                                          ]  4096000 / 20515344\r",
      " 20% [..............                                                          ]  4104192 / 20515344\r",
      " 20% [..............                                                          ]  4112384 / 20515344\r",
      " 20% [..............                                                          ]  4120576 / 20515344\r",
      " 20% [..............                                                          ]  4128768 / 20515344\r",
      " 20% [..............                                                          ]  4136960 / 20515344\r",
      " 20% [..............                                                          ]  4145152 / 20515344"
     ]
    },
    {
     "name": "stdout",
     "output_type": "stream",
     "text": [
      "\r",
      " 20% [..............                                                          ]  4153344 / 20515344\r",
      " 20% [..............                                                          ]  4161536 / 20515344\r",
      " 20% [..............                                                          ]  4169728 / 20515344\r",
      " 20% [..............                                                          ]  4177920 / 20515344\r",
      " 20% [..............                                                          ]  4186112 / 20515344\r",
      " 20% [..............                                                          ]  4194304 / 20515344\r",
      " 20% [..............                                                          ]  4202496 / 20515344\r",
      " 20% [..............                                                          ]  4210688 / 20515344\r",
      " 20% [..............                                                          ]  4218880 / 20515344\r",
      " 20% [..............                                                          ]  4227072 / 20515344\r",
      " 20% [..............                                                          ]  4235264 / 20515344\r",
      " 20% [..............                                                          ]  4243456 / 20515344\r",
      " 20% [..............                                                          ]  4251648 / 20515344\r",
      " 20% [..............                                                          ]  4259840 / 20515344\r",
      " 20% [..............                                                          ]  4268032 / 20515344\r",
      " 20% [...............                                                         ]  4276224 / 20515344\r",
      " 20% [...............                                                         ]  4284416 / 20515344\r",
      " 20% [...............                                                         ]  4292608 / 20515344\r",
      " 20% [...............                                                         ]  4300800 / 20515344\r",
      " 21% [...............                                                         ]  4308992 / 20515344\r",
      " 21% [...............                                                         ]  4317184 / 20515344\r",
      " 21% [...............                                                         ]  4325376 / 20515344\r",
      " 21% [...............                                                         ]  4333568 / 20515344\r",
      " 21% [...............                                                         ]  4341760 / 20515344\r",
      " 21% [...............                                                         ]  4349952 / 20515344\r",
      " 21% [...............                                                         ]  4358144 / 20515344\r",
      " 21% [...............                                                         ]  4366336 / 20515344\r",
      " 21% [...............                                                         ]  4374528 / 20515344\r",
      " 21% [...............                                                         ]  4382720 / 20515344\r",
      " 21% [...............                                                         ]  4390912 / 20515344\r",
      " 21% [...............                                                         ]  4399104 / 20515344\r",
      " 21% [...............                                                         ]  4407296 / 20515344\r",
      " 21% [...............                                                         ]  4415488 / 20515344\r",
      " 21% [...............                                                         ]  4423680 / 20515344\r",
      " 21% [...............                                                         ]  4431872 / 20515344\r",
      " 21% [...............                                                         ]  4440064 / 20515344\r",
      " 21% [...............                                                         ]  4448256 / 20515344\r",
      " 21% [...............                                                         ]  4456448 / 20515344\r",
      " 21% [...............                                                         ]  4464640 / 20515344\r",
      " 21% [...............                                                         ]  4472832 / 20515344\r",
      " 21% [...............                                                         ]  4481024 / 20515344\r",
      " 21% [...............                                                         ]  4489216 / 20515344\r",
      " 21% [...............                                                         ]  4497408 / 20515344\r",
      " 21% [...............                                                         ]  4505600 / 20515344\r",
      " 22% [...............                                                         ]  4513792 / 20515344\r",
      " 22% [...............                                                         ]  4521984 / 20515344\r",
      " 22% [...............                                                         ]  4530176 / 20515344\r",
      " 22% [...............                                                         ]  4538368 / 20515344\r",
      " 22% [...............                                                         ]  4546560 / 20515344\r",
      " 22% [...............                                                         ]  4554752 / 20515344\r",
      " 22% [................                                                        ]  4562944 / 20515344\r",
      " 22% [................                                                        ]  4571136 / 20515344\r",
      " 22% [................                                                        ]  4579328 / 20515344\r",
      " 22% [................                                                        ]  4587520 / 20515344\r",
      " 22% [................                                                        ]  4595712 / 20515344\r",
      " 22% [................                                                        ]  4603904 / 20515344\r",
      " 22% [................                                                        ]  4612096 / 20515344\r",
      " 22% [................                                                        ]  4620288 / 20515344\r",
      " 22% [................                                                        ]  4628480 / 20515344\r",
      " 22% [................                                                        ]  4636672 / 20515344\r",
      " 22% [................                                                        ]  4644864 / 20515344\r",
      " 22% [................                                                        ]  4653056 / 20515344\r",
      " 22% [................                                                        ]  4661248 / 20515344\r",
      " 22% [................                                                        ]  4669440 / 20515344\r",
      " 22% [................                                                        ]  4677632 / 20515344\r",
      " 22% [................                                                        ]  4685824 / 20515344\r",
      " 22% [................                                                        ]  4694016 / 20515344\r",
      " 22% [................                                                        ]  4702208 / 20515344\r",
      " 22% [................                                                        ]  4710400 / 20515344\r",
      " 23% [................                                                        ]  4718592 / 20515344\r",
      " 23% [................                                                        ]  4726784 / 20515344\r",
      " 23% [................                                                        ]  4734976 / 20515344\r",
      " 23% [................                                                        ]  4743168 / 20515344\r",
      " 23% [................                                                        ]  4751360 / 20515344\r",
      " 23% [................                                                        ]  4759552 / 20515344\r",
      " 23% [................                                                        ]  4767744 / 20515344\r",
      " 23% [................                                                        ]  4775936 / 20515344\r",
      " 23% [................                                                        ]  4784128 / 20515344\r",
      " 23% [................                                                        ]  4792320 / 20515344\r",
      " 23% [................                                                        ]  4800512 / 20515344\r",
      " 23% [................                                                        ]  4808704 / 20515344\r",
      " 23% [................                                                        ]  4816896 / 20515344\r",
      " 23% [................                                                        ]  4825088 / 20515344\r",
      " 23% [................                                                        ]  4833280 / 20515344\r",
      " 23% [................                                                        ]  4841472 / 20515344\r",
      " 23% [.................                                                       ]  4849664 / 20515344\r",
      " 23% [.................                                                       ]  4857856 / 20515344\r",
      " 23% [.................                                                       ]  4866048 / 20515344\r",
      " 23% [.................                                                       ]  4874240 / 20515344\r",
      " 23% [.................                                                       ]  4882432 / 20515344\r",
      " 23% [.................                                                       ]  4890624 / 20515344\r",
      " 23% [.................                                                       ]  4898816 / 20515344\r",
      " 23% [.................                                                       ]  4907008 / 20515344\r",
      " 23% [.................                                                       ]  4915200 / 20515344\r",
      " 23% [.................                                                       ]  4923392 / 20515344\r",
      " 24% [.................                                                       ]  4931584 / 20515344\r",
      " 24% [.................                                                       ]  4939776 / 20515344\r",
      " 24% [.................                                                       ]  4947968 / 20515344\r",
      " 24% [.................                                                       ]  4956160 / 20515344\r",
      " 24% [.................                                                       ]  4964352 / 20515344\r",
      " 24% [.................                                                       ]  4972544 / 20515344\r",
      " 24% [.................                                                       ]  4980736 / 20515344\r",
      " 24% [.................                                                       ]  4988928 / 20515344\r",
      " 24% [.................                                                       ]  4997120 / 20515344\r",
      " 24% [.................                                                       ]  5005312 / 20515344\r",
      " 24% [.................                                                       ]  5013504 / 20515344\r",
      " 24% [.................                                                       ]  5021696 / 20515344\r",
      " 24% [.................                                                       ]  5029888 / 20515344\r",
      " 24% [.................                                                       ]  5038080 / 20515344\r",
      " 24% [.................                                                       ]  5046272 / 20515344\r",
      " 24% [.................                                                       ]  5054464 / 20515344\r",
      " 24% [.................                                                       ]  5062656 / 20515344\r",
      " 24% [.................                                                       ]  5070848 / 20515344\r",
      " 24% [.................                                                       ]  5079040 / 20515344\r",
      " 24% [.................                                                       ]  5087232 / 20515344\r",
      " 24% [.................                                                       ]  5095424 / 20515344\r",
      " 24% [.................                                                       ]  5103616 / 20515344\r",
      " 24% [.................                                                       ]  5111808 / 20515344\r",
      " 24% [.................                                                       ]  5120000 / 20515344\r",
      " 24% [.................                                                       ]  5128192 / 20515344\r",
      " 25% [..................                                                      ]  5136384 / 20515344\r",
      " 25% [..................                                                      ]  5144576 / 20515344\r",
      " 25% [..................                                                      ]  5152768 / 20515344\r",
      " 25% [..................                                                      ]  5160960 / 20515344\r",
      " 25% [..................                                                      ]  5169152 / 20515344\r",
      " 25% [..................                                                      ]  5177344 / 20515344\r",
      " 25% [..................                                                      ]  5185536 / 20515344\r",
      " 25% [..................                                                      ]  5193728 / 20515344\r",
      " 25% [..................                                                      ]  5201920 / 20515344\r",
      " 25% [..................                                                      ]  5210112 / 20515344\r",
      " 25% [..................                                                      ]  5218304 / 20515344\r",
      " 25% [..................                                                      ]  5226496 / 20515344\r",
      " 25% [..................                                                      ]  5234688 / 20515344\r",
      " 25% [..................                                                      ]  5242880 / 20515344\r",
      " 25% [..................                                                      ]  5251072 / 20515344\r",
      " 25% [..................                                                      ]  5259264 / 20515344\r",
      " 25% [..................                                                      ]  5267456 / 20515344\r",
      " 25% [..................                                                      ]  5275648 / 20515344\r",
      " 25% [..................                                                      ]  5283840 / 20515344\r",
      " 25% [..................                                                      ]  5292032 / 20515344\r",
      " 25% [..................                                                      ]  5300224 / 20515344\r",
      " 25% [..................                                                      ]  5308416 / 20515344\r",
      " 25% [..................                                                      ]  5316608 / 20515344\r",
      " 25% [..................                                                      ]  5324800 / 20515344\r",
      " 25% [..................                                                      ]  5332992 / 20515344\r",
      " 26% [..................                                                      ]  5341184 / 20515344\r",
      " 26% [..................                                                      ]  5349376 / 20515344\r",
      " 26% [..................                                                      ]  5357568 / 20515344\r",
      " 26% [..................                                                      ]  5365760 / 20515344\r",
      " 26% [..................                                                      ]  5373952 / 20515344\r",
      " 26% [..................                                                      ]  5382144 / 20515344\r",
      " 26% [..................                                                      ]  5390336 / 20515344\r",
      " 26% [..................                                                      ]  5398528 / 20515344\r",
      " 26% [..................                                                      ]  5406720 / 20515344\r",
      " 26% [...................                                                     ]  5414912 / 20515344\r",
      " 26% [...................                                                     ]  5423104 / 20515344\r",
      " 26% [...................                                                     ]  5431296 / 20515344\r",
      " 26% [...................                                                     ]  5439488 / 20515344\r",
      " 26% [...................                                                     ]  5447680 / 20515344\r",
      " 26% [...................                                                     ]  5455872 / 20515344\r",
      " 26% [...................                                                     ]  5464064 / 20515344\r",
      " 26% [...................                                                     ]  5472256 / 20515344\r",
      " 26% [...................                                                     ]  5480448 / 20515344\r",
      " 26% [...................                                                     ]  5488640 / 20515344\r",
      " 26% [...................                                                     ]  5496832 / 20515344\r",
      " 26% [...................                                                     ]  5505024 / 20515344\r",
      " 26% [...................                                                     ]  5513216 / 20515344\r",
      " 26% [...................                                                     ]  5521408 / 20515344\r",
      " 26% [...................                                                     ]  5529600 / 20515344\r",
      " 26% [...................                                                     ]  5537792 / 20515344\r",
      " 27% [...................                                                     ]  5545984 / 20515344\r",
      " 27% [...................                                                     ]  5554176 / 20515344\r",
      " 27% [...................                                                     ]  5562368 / 20515344\r",
      " 27% [...................                                                     ]  5570560 / 20515344\r",
      " 27% [...................                                                     ]  5578752 / 20515344\r",
      " 27% [...................                                                     ]  5586944 / 20515344\r",
      " 27% [...................                                                     ]  5595136 / 20515344\r",
      " 27% [...................                                                     ]  5603328 / 20515344\r",
      " 27% [...................                                                     ]  5611520 / 20515344\r",
      " 27% [...................                                                     ]  5619712 / 20515344\r",
      " 27% [...................                                                     ]  5627904 / 20515344\r",
      " 27% [...................                                                     ]  5636096 / 20515344\r",
      " 27% [...................                                                     ]  5644288 / 20515344\r",
      " 27% [...................                                                     ]  5652480 / 20515344\r",
      " 27% [...................                                                     ]  5660672 / 20515344\r",
      " 27% [...................                                                     ]  5668864 / 20515344\r",
      " 27% [...................                                                     ]  5677056 / 20515344\r",
      " 27% [...................                                                     ]  5685248 / 20515344\r",
      " 27% [...................                                                     ]  5693440 / 20515344\r",
      " 27% [....................                                                    ]  5701632 / 20515344\r",
      " 27% [....................                                                    ]  5709824 / 20515344\r",
      " 27% [....................                                                    ]  5718016 / 20515344\r",
      " 27% [....................                                                    ]  5726208 / 20515344\r",
      " 27% [....................                                                    ]  5734400 / 20515344\r",
      " 27% [....................                                                    ]  5742592 / 20515344\r",
      " 28% [....................                                                    ]  5750784 / 20515344\r",
      " 28% [....................                                                    ]  5758976 / 20515344\r",
      " 28% [....................                                                    ]  5767168 / 20515344\r",
      " 28% [....................                                                    ]  5775360 / 20515344\r",
      " 28% [....................                                                    ]  5783552 / 20515344\r",
      " 28% [....................                                                    ]  5791744 / 20515344\r",
      " 28% [....................                                                    ]  5799936 / 20515344\r",
      " 28% [....................                                                    ]  5808128 / 20515344\r",
      " 28% [....................                                                    ]  5816320 / 20515344\r",
      " 28% [....................                                                    ]  5824512 / 20515344\r",
      " 28% [....................                                                    ]  5832704 / 20515344\r",
      " 28% [....................                                                    ]  5840896 / 20515344\r",
      " 28% [....................                                                    ]  5849088 / 20515344\r",
      " 28% [....................                                                    ]  5857280 / 20515344\r",
      " 28% [....................                                                    ]  5865472 / 20515344\r",
      " 28% [....................                                                    ]  5873664 / 20515344\r",
      " 28% [....................                                                    ]  5881856 / 20515344\r",
      " 28% [....................                                                    ]  5890048 / 20515344\r",
      " 28% [....................                                                    ]  5898240 / 20515344\r",
      " 28% [....................                                                    ]  5906432 / 20515344\r",
      " 28% [....................                                                    ]  5914624 / 20515344\r",
      " 28% [....................                                                    ]  5922816 / 20515344\r",
      " 28% [....................                                                    ]  5931008 / 20515344\r",
      " 28% [....................                                                    ]  5939200 / 20515344\r",
      " 28% [....................                                                    ]  5947392 / 20515344\r",
      " 29% [....................                                                    ]  5955584 / 20515344\r",
      " 29% [....................                                                    ]  5963776 / 20515344\r",
      " 29% [....................                                                    ]  5971968 / 20515344\r",
      " 29% [....................                                                    ]  5980160 / 20515344\r",
      " 29% [.....................                                                   ]  5988352 / 20515344\r",
      " 29% [.....................                                                   ]  5996544 / 20515344\r",
      " 29% [.....................                                                   ]  6004736 / 20515344\r",
      " 29% [.....................                                                   ]  6012928 / 20515344\r",
      " 29% [.....................                                                   ]  6021120 / 20515344\r",
      " 29% [.....................                                                   ]  6029312 / 20515344\r",
      " 29% [.....................                                                   ]  6037504 / 20515344\r",
      " 29% [.....................                                                   ]  6045696 / 20515344\r",
      " 29% [.....................                                                   ]  6053888 / 20515344\r",
      " 29% [.....................                                                   ]  6062080 / 20515344\r",
      " 29% [.....................                                                   ]  6070272 / 20515344\r",
      " 29% [.....................                                                   ]  6078464 / 20515344\r",
      " 29% [.....................                                                   ]  6086656 / 20515344\r",
      " 29% [.....................                                                   ]  6094848 / 20515344\r",
      " 29% [.....................                                                   ]  6103040 / 20515344\r",
      " 29% [.....................                                                   ]  6111232 / 20515344\r",
      " 29% [.....................                                                   ]  6119424 / 20515344\r",
      " 29% [.....................                                                   ]  6127616 / 20515344\r",
      " 29% [.....................                                                   ]  6135808 / 20515344\r",
      " 29% [.....................                                                   ]  6144000 / 20515344\r",
      " 29% [.....................                                                   ]  6152192 / 20515344\r",
      " 30% [.....................                                                   ]  6160384 / 20515344\r",
      " 30% [.....................                                                   ]  6168576 / 20515344\r",
      " 30% [.....................                                                   ]  6176768 / 20515344\r",
      " 30% [.....................                                                   ]  6184960 / 20515344\r",
      " 30% [.....................                                                   ]  6193152 / 20515344\r",
      " 30% [.....................                                                   ]  6201344 / 20515344\r",
      " 30% [.....................                                                   ]  6209536 / 20515344\r",
      " 30% [.....................                                                   ]  6217728 / 20515344\r",
      " 30% [.....................                                                   ]  6225920 / 20515344\r",
      " 30% [.....................                                                   ]  6234112 / 20515344\r",
      " 30% [.....................                                                   ]  6242304 / 20515344\r",
      " 30% [.....................                                                   ]  6250496 / 20515344\r",
      " 30% [.....................                                                   ]  6258688 / 20515344\r",
      " 30% [.....................                                                   ]  6266880 / 20515344\r",
      " 30% [......................                                                  ]  6275072 / 20515344\r",
      " 30% [......................                                                  ]  6283264 / 20515344\r",
      " 30% [......................                                                  ]  6291456 / 20515344\r",
      " 30% [......................                                                  ]  6299648 / 20515344\r",
      " 30% [......................                                                  ]  6307840 / 20515344\r",
      " 30% [......................                                                  ]  6316032 / 20515344\r",
      " 30% [......................                                                  ]  6324224 / 20515344\r",
      " 30% [......................                                                  ]  6332416 / 20515344\r",
      " 30% [......................                                                  ]  6340608 / 20515344\r",
      " 30% [......................                                                  ]  6348800 / 20515344\r",
      " 30% [......................                                                  ]  6356992 / 20515344\r",
      " 31% [......................                                                  ]  6365184 / 20515344\r",
      " 31% [......................                                                  ]  6373376 / 20515344\r",
      " 31% [......................                                                  ]  6381568 / 20515344\r",
      " 31% [......................                                                  ]  6389760 / 20515344"
     ]
    },
    {
     "name": "stdout",
     "output_type": "stream",
     "text": [
      "100% [........................................................................] 20515344 / 20515344        1 file(s) moved.\n"
     ]
    },
    {
     "name": "stderr",
     "output_type": "stream",
     "text": [
      "x ssd_mobilenet_v2_fpnlite_320x320_coco17_tpu-8/\n",
      "x ssd_mobilenet_v2_fpnlite_320x320_coco17_tpu-8/checkpoint/\n",
      "x ssd_mobilenet_v2_fpnlite_320x320_coco17_tpu-8/checkpoint/ckpt-0.data-00000-of-00001\n",
      "x ssd_mobilenet_v2_fpnlite_320x320_coco17_tpu-8/checkpoint/checkpoint\n",
      "x ssd_mobilenet_v2_fpnlite_320x320_coco17_tpu-8/checkpoint/ckpt-0.index\n",
      "x ssd_mobilenet_v2_fpnlite_320x320_coco17_tpu-8/pipeline.config\n",
      "x ssd_mobilenet_v2_fpnlite_320x320_coco17_tpu-8/saved_model/\n",
      "x ssd_mobilenet_v2_fpnlite_320x320_coco17_tpu-8/saved_model/saved_model.pb\n",
      "x ssd_mobilenet_v2_fpnlite_320x320_coco17_tpu-8/saved_model/variables/\n",
      "x ssd_mobilenet_v2_fpnlite_320x320_coco17_tpu-8/saved_model/variables/variables.data-00000-of-00001\n",
      "x ssd_mobilenet_v2_fpnlite_320x320_coco17_tpu-8/saved_model/variables/variables.index\n"
     ]
    }
   ],
   "source": [
    "if os.name =='posix':\n",
    "    !wget {PRETRAINED_MODEL_URL}\n",
    "    !mv {PRETRAINED_MODEL_NAME+'.tar.gz'} {paths['PRETRAINED_MODEL_PATH']}\n",
    "    !cd {paths['PRETRAINED_MODEL_PATH']} && tar -zxvf {PRETRAINED_MODEL_NAME+'.tar.gz'}\n",
    "if os.name == 'nt':\n",
    "    wget.download(PRETRAINED_MODEL_URL)\n",
    "    !move {PRETRAINED_MODEL_NAME+'.tar.gz'} {paths['PRETRAINED_MODEL_PATH']}\n",
    "    !cd {paths['PRETRAINED_MODEL_PATH']} && tar -zxvf {PRETRAINED_MODEL_NAME+'.tar.gz'}"
   ]
  },
  {
   "cell_type": "markdown",
   "metadata": {
    "id": "M5KJTnkfpfDC"
   },
   "source": [
    "# 2. Create Label Map"
   ]
  },
  {
   "cell_type": "code",
   "execution_count": 9,
   "metadata": {
    "id": "p1BVDWo7pfDC"
   },
   "outputs": [],
   "source": [
    "labels = [{'name':'licence', 'id':1}]\n",
    "\n",
    "with open(files['LABELMAP'], 'w') as f:\n",
    "    for label in labels:\n",
    "        f.write('item { \\n')\n",
    "        f.write('\\tname:\\'{}\\'\\n'.format(label['name']))\n",
    "        f.write('\\tid:{}\\n'.format(label['id']))\n",
    "        f.write('}\\n')"
   ]
  },
  {
   "cell_type": "markdown",
   "metadata": {
    "id": "C88zyVELpfDC"
   },
   "source": [
    "# 3. Create TF records"
   ]
  },
  {
   "cell_type": "code",
   "execution_count": 10,
   "metadata": {
    "colab": {
     "base_uri": "https://localhost:8080/"
    },
    "id": "kvf5WccwrFGq",
    "outputId": "49902aeb-0bd7-4298-e1a0-5b4a64eb2064"
   },
   "outputs": [],
   "source": [
    "# OPTIONAL IF RUNNING ON COLAB\n",
    "ARCHIVE_FILES = os.path.join(paths['IMAGE_PATH'], 'archive.tar.gz')\n",
    "if os.path.exists(ARCHIVE_FILES):\n",
    "  !tar -zxvf {ARCHIVE_FILES}"
   ]
  },
  {
   "cell_type": "code",
   "execution_count": 11,
   "metadata": {
    "colab": {
     "base_uri": "https://localhost:8080/"
    },
    "id": "KWpb_BVUpfDD",
    "outputId": "56ce2a3f-3933-4ee6-8a9d-d5ec65f7d73c"
   },
   "outputs": [],
   "source": [
    "if not os.path.exists(files['TF_RECORD_SCRIPT']):\n",
    "    !git clone https://github.com/nicknochnack/GenerateTFRecord {paths['SCRIPTS_PATH']}"
   ]
  },
  {
   "cell_type": "code",
   "execution_count": 12,
   "metadata": {
    "colab": {
     "base_uri": "https://localhost:8080/"
    },
    "id": "UPFToGZqpfDD",
    "outputId": "0ebb456f-aadc-4a1f-96e6-fbfec1923e1c",
    "scrolled": true
   },
   "outputs": [
    {
     "name": "stdout",
     "output_type": "stream",
     "text": [
      "Successfully created the TFRecord file: Tensorflow\\workspace\\annotations\\train.record\n",
      "Successfully created the TFRecord file: Tensorflow\\workspace\\annotations\\test.record\n"
     ]
    }
   ],
   "source": [
    "!python {files['TF_RECORD_SCRIPT']} -x {os.path.join(paths['IMAGE_PATH'], 'train')} -l {files['LABELMAP']} -o {os.path.join(paths['ANNOTATION_PATH'], 'train.record')} \n",
    "!python {files['TF_RECORD_SCRIPT']} -x {os.path.join(paths['IMAGE_PATH'], 'test')} -l {files['LABELMAP']} -o {os.path.join(paths['ANNOTATION_PATH'], 'test.record')} "
   ]
  },
  {
   "cell_type": "markdown",
   "metadata": {
    "id": "qT4QU7pLpfDE"
   },
   "source": [
    "# 4. Copy Model Config to Training Folder"
   ]
  },
  {
   "cell_type": "code",
   "execution_count": 13,
   "metadata": {
    "id": "cOjuTFbwpfDF"
   },
   "outputs": [
    {
     "name": "stdout",
     "output_type": "stream",
     "text": [
      "        1 file(s) copied.\n"
     ]
    }
   ],
   "source": [
    "if os.name =='posix':\n",
    "    !cp {os.path.join(paths['PRETRAINED_MODEL_PATH'], PRETRAINED_MODEL_NAME, 'pipeline.config')} {os.path.join(paths['CHECKPOINT_PATH'])}\n",
    "if os.name == 'nt':\n",
    "    !copy {os.path.join(paths['PRETRAINED_MODEL_PATH'], PRETRAINED_MODEL_NAME, 'pipeline.config')} {os.path.join(paths['CHECKPOINT_PATH'])}"
   ]
  },
  {
   "cell_type": "markdown",
   "metadata": {
    "id": "Ga8gpNslpfDF"
   },
   "source": [
    "# 5. Update Config For Transfer Learning"
   ]
  },
  {
   "cell_type": "code",
   "execution_count": 14,
   "metadata": {
    "id": "Z9hRrO_ppfDF"
   },
   "outputs": [],
   "source": [
    "import tensorflow as tf\n",
    "from object_detection.utils import config_util\n",
    "from object_detection.protos import pipeline_pb2\n",
    "from google.protobuf import text_format"
   ]
  },
  {
   "cell_type": "code",
   "execution_count": 15,
   "metadata": {
    "id": "c2A0mn4ipfDF"
   },
   "outputs": [],
   "source": [
    "config = config_util.get_configs_from_pipeline_file(files['PIPELINE_CONFIG'])"
   ]
  },
  {
   "cell_type": "code",
   "execution_count": 16,
   "metadata": {
    "colab": {
     "base_uri": "https://localhost:8080/"
    },
    "id": "uQA13-afpfDF",
    "outputId": "907496a4-a39d-4b13-8c2c-e5978ecb1f10"
   },
   "outputs": [
    {
     "data": {
      "text/plain": [
       "{'model': ssd {\n",
       "   num_classes: 90\n",
       "   image_resizer {\n",
       "     fixed_shape_resizer {\n",
       "       height: 320\n",
       "       width: 320\n",
       "     }\n",
       "   }\n",
       "   feature_extractor {\n",
       "     type: \"ssd_mobilenet_v2_fpn_keras\"\n",
       "     depth_multiplier: 1.0\n",
       "     min_depth: 16\n",
       "     conv_hyperparams {\n",
       "       regularizer {\n",
       "         l2_regularizer {\n",
       "           weight: 3.9999998989515007e-05\n",
       "         }\n",
       "       }\n",
       "       initializer {\n",
       "         random_normal_initializer {\n",
       "           mean: 0.0\n",
       "           stddev: 0.009999999776482582\n",
       "         }\n",
       "       }\n",
       "       activation: RELU_6\n",
       "       batch_norm {\n",
       "         decay: 0.996999979019165\n",
       "         scale: true\n",
       "         epsilon: 0.0010000000474974513\n",
       "       }\n",
       "     }\n",
       "     use_depthwise: true\n",
       "     override_base_feature_extractor_hyperparams: true\n",
       "     fpn {\n",
       "       min_level: 3\n",
       "       max_level: 7\n",
       "       additional_layer_depth: 128\n",
       "     }\n",
       "   }\n",
       "   box_coder {\n",
       "     faster_rcnn_box_coder {\n",
       "       y_scale: 10.0\n",
       "       x_scale: 10.0\n",
       "       height_scale: 5.0\n",
       "       width_scale: 5.0\n",
       "     }\n",
       "   }\n",
       "   matcher {\n",
       "     argmax_matcher {\n",
       "       matched_threshold: 0.5\n",
       "       unmatched_threshold: 0.5\n",
       "       ignore_thresholds: false\n",
       "       negatives_lower_than_unmatched: true\n",
       "       force_match_for_each_row: true\n",
       "       use_matmul_gather: true\n",
       "     }\n",
       "   }\n",
       "   similarity_calculator {\n",
       "     iou_similarity {\n",
       "     }\n",
       "   }\n",
       "   box_predictor {\n",
       "     weight_shared_convolutional_box_predictor {\n",
       "       conv_hyperparams {\n",
       "         regularizer {\n",
       "           l2_regularizer {\n",
       "             weight: 3.9999998989515007e-05\n",
       "           }\n",
       "         }\n",
       "         initializer {\n",
       "           random_normal_initializer {\n",
       "             mean: 0.0\n",
       "             stddev: 0.009999999776482582\n",
       "           }\n",
       "         }\n",
       "         activation: RELU_6\n",
       "         batch_norm {\n",
       "           decay: 0.996999979019165\n",
       "           scale: true\n",
       "           epsilon: 0.0010000000474974513\n",
       "         }\n",
       "       }\n",
       "       depth: 128\n",
       "       num_layers_before_predictor: 4\n",
       "       kernel_size: 3\n",
       "       class_prediction_bias_init: -4.599999904632568\n",
       "       share_prediction_tower: true\n",
       "       use_depthwise: true\n",
       "     }\n",
       "   }\n",
       "   anchor_generator {\n",
       "     multiscale_anchor_generator {\n",
       "       min_level: 3\n",
       "       max_level: 7\n",
       "       anchor_scale: 4.0\n",
       "       aspect_ratios: 1.0\n",
       "       aspect_ratios: 2.0\n",
       "       aspect_ratios: 0.5\n",
       "       scales_per_octave: 2\n",
       "     }\n",
       "   }\n",
       "   post_processing {\n",
       "     batch_non_max_suppression {\n",
       "       score_threshold: 9.99999993922529e-09\n",
       "       iou_threshold: 0.6000000238418579\n",
       "       max_detections_per_class: 100\n",
       "       max_total_detections: 100\n",
       "       use_static_shapes: false\n",
       "     }\n",
       "     score_converter: SIGMOID\n",
       "   }\n",
       "   normalize_loss_by_num_matches: true\n",
       "   loss {\n",
       "     localization_loss {\n",
       "       weighted_smooth_l1 {\n",
       "       }\n",
       "     }\n",
       "     classification_loss {\n",
       "       weighted_sigmoid_focal {\n",
       "         gamma: 2.0\n",
       "         alpha: 0.25\n",
       "       }\n",
       "     }\n",
       "     classification_weight: 1.0\n",
       "     localization_weight: 1.0\n",
       "   }\n",
       "   encode_background_as_zeros: true\n",
       "   normalize_loc_loss_by_codesize: true\n",
       "   inplace_batchnorm_update: true\n",
       "   freeze_batchnorm: false\n",
       " },\n",
       " 'train_config': batch_size: 128\n",
       " data_augmentation_options {\n",
       "   random_horizontal_flip {\n",
       "   }\n",
       " }\n",
       " data_augmentation_options {\n",
       "   random_crop_image {\n",
       "     min_object_covered: 0.0\n",
       "     min_aspect_ratio: 0.75\n",
       "     max_aspect_ratio: 3.0\n",
       "     min_area: 0.75\n",
       "     max_area: 1.0\n",
       "     overlap_thresh: 0.0\n",
       "   }\n",
       " }\n",
       " sync_replicas: true\n",
       " optimizer {\n",
       "   momentum_optimizer {\n",
       "     learning_rate {\n",
       "       cosine_decay_learning_rate {\n",
       "         learning_rate_base: 0.07999999821186066\n",
       "         total_steps: 50000\n",
       "         warmup_learning_rate: 0.026666000485420227\n",
       "         warmup_steps: 1000\n",
       "       }\n",
       "     }\n",
       "     momentum_optimizer_value: 0.8999999761581421\n",
       "   }\n",
       "   use_moving_average: false\n",
       " }\n",
       " fine_tune_checkpoint: \"PATH_TO_BE_CONFIGURED\"\n",
       " num_steps: 50000\n",
       " startup_delay_steps: 0.0\n",
       " replicas_to_aggregate: 8\n",
       " max_number_of_boxes: 100\n",
       " unpad_groundtruth_tensors: false\n",
       " fine_tune_checkpoint_type: \"classification\"\n",
       " fine_tune_checkpoint_version: V2,\n",
       " 'train_input_config': label_map_path: \"PATH_TO_BE_CONFIGURED\"\n",
       " tf_record_input_reader {\n",
       "   input_path: \"PATH_TO_BE_CONFIGURED\"\n",
       " },\n",
       " 'eval_config': metrics_set: \"coco_detection_metrics\"\n",
       " use_moving_averages: false,\n",
       " 'eval_input_configs': [label_map_path: \"PATH_TO_BE_CONFIGURED\"\n",
       " shuffle: false\n",
       " num_epochs: 1\n",
       " tf_record_input_reader {\n",
       "   input_path: \"PATH_TO_BE_CONFIGURED\"\n",
       " }\n",
       " ],\n",
       " 'eval_input_config': label_map_path: \"PATH_TO_BE_CONFIGURED\"\n",
       " shuffle: false\n",
       " num_epochs: 1\n",
       " tf_record_input_reader {\n",
       "   input_path: \"PATH_TO_BE_CONFIGURED\"\n",
       " }}"
      ]
     },
     "execution_count": 16,
     "metadata": {},
     "output_type": "execute_result"
    }
   ],
   "source": [
    "config"
   ]
  },
  {
   "cell_type": "code",
   "execution_count": 17,
   "metadata": {
    "id": "9vK5lotDpfDF"
   },
   "outputs": [],
   "source": [
    "pipeline_config = pipeline_pb2.TrainEvalPipelineConfig()\n",
    "with tf.io.gfile.GFile(files['PIPELINE_CONFIG'], \"r\") as f:                                                                                                                                                                                                                     \n",
    "    proto_str = f.read()                                                                                                                                                                                                                                          \n",
    "    text_format.Merge(proto_str, pipeline_config) "
   ]
  },
  {
   "cell_type": "code",
   "execution_count": 18,
   "metadata": {
    "id": "rP43Ph0JpfDG"
   },
   "outputs": [],
   "source": [
    "pipeline_config.model.ssd.num_classes = len(labels)\n",
    "pipeline_config.train_config.batch_size = 4\n",
    "pipeline_config.train_config.fine_tune_checkpoint = os.path.join(paths['PRETRAINED_MODEL_PATH'], PRETRAINED_MODEL_NAME, 'checkpoint', 'ckpt-0')\n",
    "pipeline_config.train_config.fine_tune_checkpoint_type = \"detection\"\n",
    "pipeline_config.train_input_reader.label_map_path= files['LABELMAP']\n",
    "pipeline_config.train_input_reader.tf_record_input_reader.input_path[:] = [os.path.join(paths['ANNOTATION_PATH'], 'train.record')]\n",
    "pipeline_config.eval_input_reader[0].label_map_path = files['LABELMAP']\n",
    "pipeline_config.eval_input_reader[0].tf_record_input_reader.input_path[:] = [os.path.join(paths['ANNOTATION_PATH'], 'test.record')]"
   ]
  },
  {
   "cell_type": "code",
   "execution_count": 19,
   "metadata": {
    "id": "oJvfgwWqpfDG"
   },
   "outputs": [],
   "source": [
    "config_text = text_format.MessageToString(pipeline_config)                                                                                                                                                                                                        \n",
    "with tf.io.gfile.GFile(files['PIPELINE_CONFIG'], \"wb\") as f:                                                                                                                                                                                                                     \n",
    "    f.write(config_text)   "
   ]
  },
  {
   "cell_type": "markdown",
   "metadata": {
    "id": "Zr3ON7xMpfDG"
   },
   "source": [
    "# 6. Train the model"
   ]
  },
  {
   "cell_type": "code",
   "execution_count": 20,
   "metadata": {
    "id": "B-Y2UQmQpfDG"
   },
   "outputs": [],
   "source": [
    "TRAINING_SCRIPT = os.path.join(paths['APIMODEL_PATH'], 'research', 'object_detection', 'model_main_tf2.py')"
   ]
  },
  {
   "cell_type": "code",
   "execution_count": 21,
   "metadata": {
    "id": "jMP2XDfQpfDH"
   },
   "outputs": [],
   "source": [
    "command = \"python {} --model_dir={} --pipeline_config_path={} --num_train_steps=10000\".format(TRAINING_SCRIPT, paths['CHECKPOINT_PATH'],files['PIPELINE_CONFIG'])"
   ]
  },
  {
   "cell_type": "code",
   "execution_count": 22,
   "metadata": {
    "colab": {
     "base_uri": "https://localhost:8080/"
    },
    "id": "A4OXXi-ApfDH",
    "outputId": "117a0e83-012b-466e-b7a6-ccaa349ac5ab"
   },
   "outputs": [
    {
     "name": "stdout",
     "output_type": "stream",
     "text": [
      "python Tensorflow\\models\\research\\object_detection\\model_main_tf2.py --model_dir=Tensorflow\\workspace\\models\\my_ssd_mobnet --pipeline_config_path=Tensorflow\\workspace\\models\\my_ssd_mobnet\\pipeline.config --num_train_steps=10000\n"
     ]
    }
   ],
   "source": [
    "print(command)"
   ]
  },
  {
   "cell_type": "code",
   "execution_count": 23,
   "metadata": {
    "colab": {
     "base_uri": "https://localhost:8080/"
    },
    "id": "i3ZsJR-qpfDH",
    "outputId": "cabec5e1-45e6-4f2f-d9cf-297d9c1d0225"
   },
   "outputs": [
    {
     "name": "stderr",
     "output_type": "stream",
     "text": [
      "C:\\Users\\35988\\Desktop\\uni\\Software Engineering Semester 3\\ANPR\\anprsys\\lib\\site-packages\\tensorflow_addons\\utils\\ensure_tf_install.py:53: UserWarning: Tensorflow Addons supports using Python ops for all Tensorflow versions above or equal to 2.4.0 and strictly below 2.7.0 (nightly versions are not supported). \n",
      " The versions of TensorFlow you are currently using is 2.10.0 and is not supported. \n",
      "Some things might work, some things might not.\n",
      "If you were to encounter a bug, do not file an issue.\n",
      "If you want to make sure you're using a tested and supported configuration, either change the TensorFlow version or the TensorFlow Addons's version. \n",
      "You can find the compatibility matrix in TensorFlow Addon's readme:\n",
      "https://github.com/tensorflow/addons\n",
      "  warnings.warn(\n",
      "2023-01-18 12:45:26.022428: W tensorflow/stream_executor/platform/default/dso_loader.cc:64] Could not load dynamic library 'cusolver64_11.dll'; dlerror: cusolver64_11.dll not found\n",
      "2023-01-18 12:45:26.028384: W tensorflow/core/common_runtime/gpu/gpu_device.cc:1934] Cannot dlopen some GPU libraries. Please make sure the missing libraries mentioned above are installed properly if you would like to use GPU. Follow the guide at https://www.tensorflow.org/install/gpu for how to download and setup the required libraries for your platform.\n",
      "Skipping registering GPU devices...\n",
      "2023-01-18 12:45:26.044367: I tensorflow/core/platform/cpu_feature_guard.cc:193] This TensorFlow binary is optimized with oneAPI Deep Neural Network Library (oneDNN) to use the following CPU instructions in performance-critical operations:  AVX AVX2\n",
      "To enable them in other operations, rebuild TensorFlow with the appropriate compiler flags.\n",
      "WARNING:tensorflow:There are non-GPU devices in `tf.distribute.Strategy`, not using nccl allreduce.\n",
      "W0118 12:45:26.061598  8904 cross_device_ops.py:1387] There are non-GPU devices in `tf.distribute.Strategy`, not using nccl allreduce.\n",
      "INFO:tensorflow:Using MirroredStrategy with devices ('/job:localhost/replica:0/task:0/device:CPU:0',)\n",
      "I0118 12:45:26.205781  8904 mirrored_strategy.py:374] Using MirroredStrategy with devices ('/job:localhost/replica:0/task:0/device:CPU:0',)\n",
      "INFO:tensorflow:Maybe overwriting train_steps: 10000\n",
      "I0118 12:45:26.221773  8904 config_util.py:552] Maybe overwriting train_steps: 10000\n",
      "INFO:tensorflow:Maybe overwriting use_bfloat16: False\n",
      "I0118 12:45:26.221773  8904 config_util.py:552] Maybe overwriting use_bfloat16: False\n",
      "WARNING:tensorflow:From C:\\Users\\35988\\Desktop\\uni\\Software Engineering Semester 3\\ANPR\\anprsys\\lib\\site-packages\\object_detection-0.1-py3.8.egg\\object_detection\\model_lib_v2.py:563: StrategyBase.experimental_distribute_datasets_from_function (from tensorflow.python.distribute.distribute_lib) is deprecated and will be removed in a future version.\n",
      "Instructions for updating:\n",
      "rename to distribute_datasets_from_function\n",
      "W0118 12:45:26.265778  8904 deprecation.py:350] From C:\\Users\\35988\\Desktop\\uni\\Software Engineering Semester 3\\ANPR\\anprsys\\lib\\site-packages\\object_detection-0.1-py3.8.egg\\object_detection\\model_lib_v2.py:563: StrategyBase.experimental_distribute_datasets_from_function (from tensorflow.python.distribute.distribute_lib) is deprecated and will be removed in a future version.\n",
      "Instructions for updating:\n",
      "rename to distribute_datasets_from_function\n",
      "INFO:tensorflow:Reading unweighted datasets: ['Tensorflow\\\\workspace\\\\annotations\\\\train.record']\n",
      "I0118 12:45:26.285774  8904 dataset_builder.py:162] Reading unweighted datasets: ['Tensorflow\\\\workspace\\\\annotations\\\\train.record']\n",
      "INFO:tensorflow:Reading record datasets for input file: ['Tensorflow\\\\workspace\\\\annotations\\\\train.record']\n",
      "I0118 12:45:26.285774  8904 dataset_builder.py:79] Reading record datasets for input file: ['Tensorflow\\\\workspace\\\\annotations\\\\train.record']\n",
      "INFO:tensorflow:Number of filenames to read: 1\n",
      "I0118 12:45:26.285774  8904 dataset_builder.py:80] Number of filenames to read: 1\n",
      "WARNING:tensorflow:num_readers has been reduced to 1 to match input file shards.\n",
      "W0118 12:45:26.285774  8904 dataset_builder.py:86] num_readers has been reduced to 1 to match input file shards.\n",
      "WARNING:tensorflow:From C:\\Users\\35988\\Desktop\\uni\\Software Engineering Semester 3\\ANPR\\anprsys\\lib\\site-packages\\object_detection-0.1-py3.8.egg\\object_detection\\builders\\dataset_builder.py:100: parallel_interleave (from tensorflow.python.data.experimental.ops.interleave_ops) is deprecated and will be removed in a future version.\n",
      "Instructions for updating:\n",
      "Use `tf.data.Dataset.interleave(map_func, cycle_length, block_length, num_parallel_calls=tf.data.AUTOTUNE)` instead. If sloppy execution is desired, use `tf.data.Options.deterministic`.\n",
      "W0118 12:45:26.313837  8904 deprecation.py:350] From C:\\Users\\35988\\Desktop\\uni\\Software Engineering Semester 3\\ANPR\\anprsys\\lib\\site-packages\\object_detection-0.1-py3.8.egg\\object_detection\\builders\\dataset_builder.py:100: parallel_interleave (from tensorflow.python.data.experimental.ops.interleave_ops) is deprecated and will be removed in a future version.\n",
      "Instructions for updating:\n",
      "Use `tf.data.Dataset.interleave(map_func, cycle_length, block_length, num_parallel_calls=tf.data.AUTOTUNE)` instead. If sloppy execution is desired, use `tf.data.Options.deterministic`.\n",
      "WARNING:tensorflow:From C:\\Users\\35988\\Desktop\\uni\\Software Engineering Semester 3\\ANPR\\anprsys\\lib\\site-packages\\object_detection-0.1-py3.8.egg\\object_detection\\builders\\dataset_builder.py:235: DatasetV1.map_with_legacy_function (from tensorflow.python.data.ops.dataset_ops) is deprecated and will be removed in a future version.\n",
      "Instructions for updating:\n",
      "Use `tf.data.Dataset.map()\n",
      "W0118 12:45:26.361932  8904 deprecation.py:350] From C:\\Users\\35988\\Desktop\\uni\\Software Engineering Semester 3\\ANPR\\anprsys\\lib\\site-packages\\object_detection-0.1-py3.8.egg\\object_detection\\builders\\dataset_builder.py:235: DatasetV1.map_with_legacy_function (from tensorflow.python.data.ops.dataset_ops) is deprecated and will be removed in a future version.\n",
      "Instructions for updating:\n",
      "Use `tf.data.Dataset.map()\n",
      "WARNING:tensorflow:From C:\\Users\\35988\\Desktop\\uni\\Software Engineering Semester 3\\ANPR\\anprsys\\lib\\site-packages\\tensorflow\\python\\util\\dispatch.py:1176: sparse_to_dense (from tensorflow.python.ops.sparse_ops) is deprecated and will be removed in a future version.\n",
      "Instructions for updating:\n",
      "Create a `tf.sparse.SparseTensor` and use `tf.sparse.to_dense` instead.\n",
      "W0118 12:45:34.157087  8904 deprecation.py:350] From C:\\Users\\35988\\Desktop\\uni\\Software Engineering Semester 3\\ANPR\\anprsys\\lib\\site-packages\\tensorflow\\python\\util\\dispatch.py:1176: sparse_to_dense (from tensorflow.python.ops.sparse_ops) is deprecated and will be removed in a future version.\n",
      "Instructions for updating:\n",
      "Create a `tf.sparse.SparseTensor` and use `tf.sparse.to_dense` instead.\n",
      "WARNING:tensorflow:From C:\\Users\\35988\\Desktop\\uni\\Software Engineering Semester 3\\ANPR\\anprsys\\lib\\site-packages\\tensorflow\\python\\util\\dispatch.py:1176: sample_distorted_bounding_box (from tensorflow.python.ops.image_ops_impl) is deprecated and will be removed in a future version.\n",
      "Instructions for updating:\n",
      "`seed2` arg is deprecated.Use sample_distorted_bounding_box_v2 instead.\n",
      "W0118 12:45:38.013372  8904 deprecation.py:350] From C:\\Users\\35988\\Desktop\\uni\\Software Engineering Semester 3\\ANPR\\anprsys\\lib\\site-packages\\tensorflow\\python\\util\\dispatch.py:1176: sample_distorted_bounding_box (from tensorflow.python.ops.image_ops_impl) is deprecated and will be removed in a future version.\n",
      "Instructions for updating:\n",
      "`seed2` arg is deprecated.Use sample_distorted_bounding_box_v2 instead.\n",
      "WARNING:tensorflow:From C:\\Users\\35988\\Desktop\\uni\\Software Engineering Semester 3\\ANPR\\anprsys\\lib\\site-packages\\tensorflow\\python\\util\\dispatch.py:1176: to_float (from tensorflow.python.ops.math_ops) is deprecated and will be removed in a future version.\n",
      "Instructions for updating:\n",
      "Use `tf.cast` instead.\n",
      "W0118 12:45:40.348568  8904 deprecation.py:350] From C:\\Users\\35988\\Desktop\\uni\\Software Engineering Semester 3\\ANPR\\anprsys\\lib\\site-packages\\tensorflow\\python\\util\\dispatch.py:1176: to_float (from tensorflow.python.ops.math_ops) is deprecated and will be removed in a future version.\n",
      "Instructions for updating:\n",
      "Use `tf.cast` instead.\n",
      "2023-01-18 12:45:44.960428: W tensorflow/core/framework/dataset.cc:769] Input of GeneratorDatasetOp::Dataset will not be optimized because the dataset does not implement the AsGraphDefInternal() method needed to apply optimizations.\n",
      "C:\\Users\\35988\\Desktop\\uni\\Software Engineering Semester 3\\ANPR\\anprsys\\lib\\site-packages\\keras\\backend.py:451: UserWarning: `tf.keras.backend.set_learning_phase` is deprecated and will be removed after 2020-10-11. To update it, simply pass a True/False value to the `training` argument of the `__call__` method of your layer or model.\n",
      "  warnings.warn(\n",
      "WARNING:tensorflow:Detecting that an object or model or tf.train.Checkpoint is being deleted with unrestored values. See the following logs for the specific values in question. To silence these warnings, use `status.expect_partial()`. See https://www.tensorflow.org/api_docs/python/tf/train/Checkpoint#restorefor details about the status object returned by the restore function.\n",
      "W0118 12:46:15.017641  8904 checkpoint.py:204] Detecting that an object or model or tf.train.Checkpoint is being deleted with unrestored values. See the following logs for the specific values in question. To silence these warnings, use `status.expect_partial()`. See https://www.tensorflow.org/api_docs/python/tf/train/Checkpoint#restorefor details about the status object returned by the restore function.\n",
      "WARNING:tensorflow:Value in checkpoint could not be found in the restored object: (root).optimizer.iter\n",
      "W0118 12:46:15.017641  8904 checkpoint.py:213] Value in checkpoint could not be found in the restored object: (root).optimizer.iter\n",
      "WARNING:tensorflow:Value in checkpoint could not be found in the restored object: (root).optimizer.decay\n",
      "W0118 12:46:15.017641  8904 checkpoint.py:213] Value in checkpoint could not be found in the restored object: (root).optimizer.decay\n",
      "WARNING:tensorflow:Value in checkpoint could not be found in the restored object: (root).optimizer.momentum\n",
      "W0118 12:46:15.017641  8904 checkpoint.py:213] Value in checkpoint could not be found in the restored object: (root).optimizer.momentum\n"
     ]
    }
   ],
   "source": [
    "!{command}"
   ]
  },
  {
   "cell_type": "markdown",
   "metadata": {
    "id": "4_YRZu7npfDH"
   },
   "source": [
    "# 7. Evaluate the Model"
   ]
  },
  {
   "cell_type": "code",
   "execution_count": 24,
   "metadata": {
    "id": "80L7-fdPpfDH"
   },
   "outputs": [],
   "source": [
    "command = \"python {} --model_dir={} --pipeline_config_path={} --checkpoint_dir={}\".format(TRAINING_SCRIPT, paths['CHECKPOINT_PATH'],files['PIPELINE_CONFIG'], paths['CHECKPOINT_PATH'])"
   ]
  },
  {
   "cell_type": "code",
   "execution_count": null,
   "metadata": {
    "colab": {
     "base_uri": "https://localhost:8080/"
    },
    "id": "lYsgEPx9pfDH",
    "outputId": "8632d48b-91d2-45d9-bcb8-c1b172bf6eed"
   },
   "outputs": [],
   "source": [
    "print(command)"
   ]
  },
  {
   "cell_type": "code",
   "execution_count": null,
   "metadata": {
    "id": "lqTV2jGBpfDH"
   },
   "outputs": [],
   "source": [
    "!{command}"
   ]
  },
  {
   "cell_type": "markdown",
   "metadata": {
    "id": "orvRk02UpfDI"
   },
   "source": [
    "# 8. Load Train Model From Checkpoint"
   ]
  },
  {
   "cell_type": "code",
   "execution_count": 25,
   "metadata": {
    "id": "8TYk4_oIpfDI"
   },
   "outputs": [],
   "source": [
    "import os\n",
    "import tensorflow as tf\n",
    "from object_detection.utils import label_map_util\n",
    "from object_detection.utils import visualization_utils as viz_utils\n",
    "from object_detection.builders import model_builder\n",
    "from object_detection.utils import config_util"
   ]
  },
  {
   "cell_type": "code",
   "execution_count": 26,
   "metadata": {},
   "outputs": [],
   "source": [
    "# Prevent GPU complete consumption\n",
    "\n",
    "gpus = tf.config.list_physical_devices('GPU')\n",
    "if gpus:\n",
    "    try:\n",
    "        tf.config.experimental.set_virtual_device_configuration(gpus[0], [tf.config.experimental.VirtualDeviceConfiguration(memory_limit=5120)])\n",
    "    except RunTimeError as e:\n",
    "            print(e)"
   ]
  },
  {
   "cell_type": "code",
   "execution_count": 27,
   "metadata": {
    "id": "tDnQg-cYpfDI"
   },
   "outputs": [],
   "source": [
    "# Load pipeline config and build a detection model\n",
    "configs = config_util.get_configs_from_pipeline_file(files['PIPELINE_CONFIG'])\n",
    "detection_model = model_builder.build(model_config=configs['model'], is_training=False)\n",
    "\n",
    "# Restore checkpoint\n",
    "ckpt = tf.compat.v2.train.Checkpoint(model=detection_model)\n",
    "ckpt.restore(os.path.join(paths['CHECKPOINT_PATH'], 'ckpt-11')).expect_partial()\n",
    "\n",
    "@tf.function\n",
    "def detect_fn(image):\n",
    "    image, shapes = detection_model.preprocess(image)\n",
    "    prediction_dict = detection_model.predict(image, shapes)\n",
    "    detections = detection_model.postprocess(prediction_dict, shapes)\n",
    "    return detections"
   ]
  },
  {
   "cell_type": "markdown",
   "metadata": {
    "id": "0EmsmbBZpfDI"
   },
   "source": [
    "# 9. Detect from an Image"
   ]
  },
  {
   "cell_type": "code",
   "execution_count": 28,
   "metadata": {
    "id": "Y_MKiuZ4pfDI"
   },
   "outputs": [],
   "source": [
    "import cv2 \n",
    "import numpy as np\n",
    "from matplotlib import pyplot as plt\n",
    "%matplotlib inline"
   ]
  },
  {
   "cell_type": "code",
   "execution_count": 29,
   "metadata": {
    "id": "cBDbIhNapfDI"
   },
   "outputs": [],
   "source": [
    "category_index = label_map_util.create_category_index_from_labelmap(files['LABELMAP'])"
   ]
  },
  {
   "cell_type": "code",
   "execution_count": 30,
   "metadata": {
    "id": "Lx3crOhOzITB"
   },
   "outputs": [],
   "source": [
    "IMAGE_PATH = os.path.join(paths['IMAGE_PATH'], 'test', 'Cars425.png')"
   ]
  },
  {
   "cell_type": "code",
   "execution_count": 31,
   "metadata": {
    "colab": {
     "base_uri": "https://localhost:8080/",
     "height": 269
    },
    "id": "Tpzn1SMry1yK",
    "outputId": "c392a2c5-10fe-4fc4-9998-a1d4c7db2bd3"
   },
   "outputs": [
    {
     "data": {
      "image/png": "[encoded data removed]",
      "text/plain": [
       "<Figure size 640x480 with 1 Axes>"
      ]
     },
     "metadata": {},
     "output_type": "display_data"
    }
   ],
   "source": [
    "img = cv2.imread(IMAGE_PATH)\n",
    "image_np = np.array(img)\n",
    "\n",
    "input_tensor = tf.convert_to_tensor(np.expand_dims(image_np, 0), dtype=tf.float32)\n",
    "detections = detect_fn(input_tensor)\n",
    "\n",
    "num_detections = int(detections.pop('num_detections'))\n",
    "detections = {key: value[0, :num_detections].numpy()\n",
    "              for key, value in detections.items()}\n",
    "detections['num_detections'] = num_detections\n",
    "\n",
    "# detection_classes should be ints.\n",
    "detections['detection_classes'] = detections['detection_classes'].astype(np.int64)\n",
    "\n",
    "label_id_offset = 1\n",
    "image_np_with_detections = image_np.copy()\n",
    "\n",
    "viz_utils.visualize_boxes_and_labels_on_image_array(\n",
    "            image_np_with_detections,\n",
    "            detections['detection_boxes'],\n",
    "            detections['detection_classes']+label_id_offset,\n",
    "            detections['detection_scores'],\n",
    "            category_index,\n",
    "            use_normalized_coordinates=True,\n",
    "            max_boxes_to_draw=5,\n",
    "            min_score_thresh=.8,\n",
    "            agnostic_mode=False)\n",
    "\n",
    "plt.imshow(cv2.cvtColor(image_np_with_detections, cv2.COLOR_BGR2RGB))\n",
    "plt.show()"
   ]
  },
  {
   "cell_type": "markdown",
   "metadata": {},
   "source": [
    "# Apply OCR to Detection"
   ]
  },
  {
   "cell_type": "code",
   "execution_count": null,
   "metadata": {},
   "outputs": [],
   "source": [
    "!pip install easyocr"
   ]
  },
  {
   "cell_type": "code",
   "execution_count": null,
   "metadata": {},
   "outputs": [],
   "source": [
    "!pip install torch==1.7.1+cu110 torchvision==0.8.2+cu110 torchaudio==0.7.2 -f https://download.pytorch.org/whl/torch_stable.html"
   ]
  },
  {
   "cell_type": "code",
   "execution_count": 34,
   "metadata": {},
   "outputs": [],
   "source": [
    "import easyocr"
   ]
  },
  {
   "cell_type": "code",
   "execution_count": 35,
   "metadata": {},
   "outputs": [],
   "source": [
    "detection_threshold = 0.7"
   ]
  },
  {
   "cell_type": "code",
   "execution_count": 36,
   "metadata": {},
   "outputs": [],
   "source": [
    "image = image_np_with_detections\n",
    "scores = list(filter(lambda x: x> detection_threshold, detections['detection_scores']))\n",
    "boxes = detections['detection_boxes'][:len(scores)]\n",
    "classes = detections['detection_classes'][:len(scores)]"
   ]
  },
  {
   "cell_type": "code",
   "execution_count": 37,
   "metadata": {},
   "outputs": [],
   "source": [
    "width = image.shape[1]\n",
    "height = image.shape[0]"
   ]
  },
  {
   "cell_type": "code",
   "execution_count": 38,
   "metadata": {},
   "outputs": [
    {
     "name": "stdout",
     "output_type": "stream",
     "text": [
      "[([[8, 4], [88, 4], [88, 28], [8, 28]], '6526 JHD', 0.7478183670186478)]\n"
     ]
    },
    {
     "data": {
      "image/png": "[encoded data removed]",
      "text/plain": [
       "<Figure size 640x480 with 1 Axes>"
      ]
     },
     "metadata": {},
     "output_type": "display_data"
    }
   ],
   "source": [
    "#Apply ROI filtering and OCR\n",
    "for idx, box in enumerate(boxes): \n",
    "    roi = box*[height, width, height, width]\n",
    "    region = image[int(roi[0]):int(roi[2]),int(roi[1]):int(roi[3])]\n",
    "    reader = easyocr.Reader(['en'])\n",
    "    ocr_result = reader.readtext(region)\n",
    "    print(ocr_result)\n",
    "    plt.imshow(region)"
   ]
  },
  {
   "cell_type": "markdown",
   "metadata": {},
   "source": [
    "# OCR Filtering"
   ]
  },
  {
   "cell_type": "code",
   "execution_count": 39,
   "metadata": {},
   "outputs": [],
   "source": [
    "region_threshold = 0.6"
   ]
  },
  {
   "cell_type": "code",
   "execution_count": 40,
   "metadata": {},
   "outputs": [],
   "source": [
    "def filter_text(region, ocr_result, region_threshold):\n",
    "    rectangle_size = region.shape[0]*region.shape[1]\n",
    "    \n",
    "    plate = []\n",
    "    for result in ocr_result:\n",
    "        length = np.sum(np.subtract(result[0][1], result[0][0]))\n",
    "        height = np.sum(np.subtract(result[0][2], result[0][1]))\n",
    "        \n",
    "        if length*height / rectangle_size > region_threshold:\n",
    "            plate.append(result[1])\n",
    "    return plate"
   ]
  },
  {
   "cell_type": "code",
   "execution_count": 41,
   "metadata": {},
   "outputs": [
    {
     "data": {
      "text/plain": [
       "['6526 JHD']"
      ]
     },
     "execution_count": 41,
     "metadata": {},
     "output_type": "execute_result"
    }
   ],
   "source": [
    "filter_text(region, ocr_result, region_threshold)"
   ]
  },
  {
   "cell_type": "markdown",
   "metadata": {},
   "source": [
    "# Bring it together"
   ]
  },
  {
   "cell_type": "code",
   "execution_count": 42,
   "metadata": {},
   "outputs": [],
   "source": [
    "def ocr_it(image, detections, detection_threshold, region_threshold):\n",
    "\n",
    "    # Scores, boxes and classes above threshold\n",
    "    scores = list(filter(lambda x: x> detection_threshold, detections['detection_scores']))\n",
    "    boxes = detections['detection_boxes'][:len(scores)]\n",
    "    classes = detections['detection_classes'][:len(scores)]\n",
    "    \n",
    "    width = image.shape[1]\n",
    "    height = image.shape[0]\n",
    "    \n",
    "    #Apply ROI filtering and OCR\n",
    "    for idx, box in enumerate(boxes): \n",
    "        roi = box*[height, width, height, width]\n",
    "        region = image[int(roi[0]):int(roi[2]),int(roi[1]):int(roi[3])]\n",
    "        reader = easyocr.Reader(['en'])\n",
    "        ocr_result = reader.readtext(region)\n",
    "\n",
    "        text = filter_text(region, ocr_result, region_threshold)\n",
    "\n",
    "        plt.imshow(cv2.cvtColor(region, cv2.COLOR_BGR2RGB))\n",
    "        print(text)\n",
    "        return text, region"
   ]
  },
  {
   "cell_type": "code",
   "execution_count": 43,
   "metadata": {},
   "outputs": [
    {
     "name": "stdout",
     "output_type": "stream",
     "text": [
      "['6526 JHD']\n"
     ]
    },
    {
     "data": {
      "image/png": "[encoded data removed]",
      "text/plain": [
       "<Figure size 640x480 with 1 Axes>"
      ]
     },
     "metadata": {},
     "output_type": "display_data"
    }
   ],
   "source": [
    "text, region = ocr_it(image_np_with_detections, detections, detection_threshold, region_threshold)"
   ]
  },
  {
   "cell_type": "markdown",
   "metadata": {
    "id": "IsNAaYAo0WVL"
   },
   "source": [
    "# 10. Real Time Detections from your Webcam"
   ]
  },
  {
   "cell_type": "code",
   "execution_count": null,
   "metadata": {},
   "outputs": [],
   "source": [
    "!pip uninstall opencv-python -y"
   ]
  },
  {
   "cell_type": "code",
   "execution_count": null,
   "metadata": {},
   "outputs": [],
   "source": [
    "!pip install opencv-python --upgrade"
   ]
  },
  {
   "cell_type": "code",
   "execution_count": null,
   "metadata": {
    "id": "o_grs6OGpfDJ"
   },
   "outputs": [
    {
     "name": "stdout",
     "output_type": "stream",
     "text": [
      "['01-LX-RP']\n",
      "['O1-LX-RP']\n",
      "[]\n",
      "['01-LX-RP']\n",
      "['01-LX-RP']\n",
      "['01-LX-RP']\n",
      "['01-LX-H']\n",
      "[]\n",
      "['01-LX-RP']\n",
      "['01-LX-RP']\n",
      "['01-LX-RP']\n",
      "[]\n",
      "[]\n",
      "['01-LX-RP']\n",
      "[]\n",
      "['O1-LX-RP']\n",
      "['01-LX-RP']\n",
      "['01-LX-RP']\n",
      "['01-LX-RP']\n",
      "['01-LX-RP']\n",
      "['01-LX-RP']\n",
      "['01-LX-RP']\n",
      "['01-LX-RP']\n",
      "['01-LX-RP']\n",
      "['01-LX-RP']\n"
     ]
    }
   ],
   "source": [
    "cap = cv2.VideoCapture(0)\n",
    "width = int(cap.get(cv2.CAP_PROP_FRAME_WIDTH))\n",
    "height = int(cap.get(cv2.CAP_PROP_FRAME_HEIGHT))\n",
    "\n",
    "while cap.isOpened(): \n",
    "    ret, frame = cap.read()\n",
    "    image_np = np.array(frame)\n",
    "    \n",
    "    input_tensor = tf.convert_to_tensor(np.expand_dims(image_np, 0), dtype=tf.float32)\n",
    "    detections = detect_fn(input_tensor)\n",
    "    \n",
    "    num_detections = int(detections.pop('num_detections'))\n",
    "    detections = {key: value[0, :num_detections].numpy()\n",
    "                  for key, value in detections.items()}\n",
    "    detections['num_detections'] = num_detections\n",
    "\n",
    "    # detection_classes should be ints.\n",
    "    detections['detection_classes'] = detections['detection_classes'].astype(np.int64)\n",
    "\n",
    "    label_id_offset = 1\n",
    "    image_np_with_detections = image_np.copy()\n",
    "\n",
    "    viz_utils.visualize_boxes_and_labels_on_image_array(\n",
    "                image_np_with_detections,\n",
    "                detections['detection_boxes'],\n",
    "                detections['detection_classes']+label_id_offset,\n",
    "                detections['detection_scores'],\n",
    "                category_index,\n",
    "                use_normalized_coordinates=True,\n",
    "                max_boxes_to_draw=5,\n",
    "                min_score_thresh=.8,\n",
    "                agnostic_mode=False)\n",
    "    \n",
    "    try:\n",
    "        text, region = ocr_it(image_np_with_detections, detections, detection_threshold, region_threshold)\n",
    "        save_results(text, region, 'realtimeresults.csv', 'Detection_Images')\n",
    "    except:\n",
    "        pass\n",
    "\n",
    "    cv2.imshow('object detection',  cv2.resize(image_np_with_detections, (800, 600)))\n",
    "    \n",
    "    if cv2.waitKey(10) & 0xFF == ord('q'):\n",
    "        cap.release()\n",
    "        cv2.destroyAllWindows()\n",
    "        break"
   ]
  },
  {
   "cell_type": "markdown",
   "metadata": {},
   "source": [
    "# Save results"
   ]
  },
  {
   "cell_type": "code",
   "execution_count": 44,
   "metadata": {},
   "outputs": [],
   "source": [
    "import csv\n",
    "import uuid"
   ]
  },
  {
   "cell_type": "code",
   "execution_count": 45,
   "metadata": {},
   "outputs": [],
   "source": [
    "def save_results(text, region, csv_filename, folder_path):\n",
    "    img_name = '{}.jpg'.format(uuid.uuid1())\n",
    "    \n",
    "    cv2.imwrite(os.path.join(folder_path, img_name), region)\n",
    "    \n",
    "    with open(csv_filename, mode='a', newline='') as f:\n",
    "        csv_writer = csv.writer(f, delimiter=',', quotechar='\"', quoting=csv.QUOTE_MINIMAL)\n",
    "        csv_writer.writerow([text])"
   ]
  },
  {
   "cell_type": "code",
   "execution_count": 46,
   "metadata": {},
   "outputs": [],
   "source": [
    "save_results(text, region, 'detection_results.csv', 'Detection_Images')"
   ]
  },
  {
   "cell_type": "markdown",
   "metadata": {
    "id": "rzlM4jt0pfDJ"
   },
   "source": [
    "# 10. Freezing the Graph"
   ]
  },
  {
   "cell_type": "code",
   "execution_count": null,
   "metadata": {
    "id": "n4olHB2npfDJ"
   },
   "outputs": [],
   "source": [
    "FREEZE_SCRIPT = os.path.join(paths['APIMODEL_PATH'], 'research', 'object_detection', 'exporter_main_v2.py ')"
   ]
  },
  {
   "cell_type": "code",
   "execution_count": null,
   "metadata": {
    "id": "0AjO93QDpfDJ"
   },
   "outputs": [],
   "source": [
    "command = \"python {} --input_type=image_tensor --pipeline_config_path={} --trained_checkpoint_dir={} --output_directory={}\".format(FREEZE_SCRIPT ,files['PIPELINE_CONFIG'], paths['CHECKPOINT_PATH'], paths['OUTPUT_PATH'])"
   ]
  },
  {
   "cell_type": "code",
   "execution_count": null,
   "metadata": {
    "colab": {
     "base_uri": "https://localhost:8080/"
    },
    "id": "F6Lsp3tCpfDJ",
    "outputId": "c3828529-bf06-4df5-d7f3-145890ec3edd"
   },
   "outputs": [],
   "source": [
    "print(command)"
   ]
  },
  {
   "cell_type": "code",
   "execution_count": null,
   "metadata": {
    "colab": {
     "base_uri": "https://localhost:8080/"
    },
    "id": "1Sw1ULgHpfDJ",
    "outputId": "6fd441e1-9fc9-4889-d072-3395c21e40b6"
   },
   "outputs": [],
   "source": [
    "!{command}"
   ]
  },
  {
   "cell_type": "markdown",
   "metadata": {
    "id": "wTPmdqaXpfDK"
   },
   "source": [
    "# 11. Conversion to TFJS"
   ]
  },
  {
   "cell_type": "code",
   "execution_count": null,
   "metadata": {
    "colab": {
     "base_uri": "https://localhost:8080/"
    },
    "id": "gZ6UzY_fpfDK",
    "outputId": "0c84722e-1c2b-4002-d857-80827ade828a",
    "scrolled": true
   },
   "outputs": [],
   "source": [
    "!pip install tensorflowjs"
   ]
  },
  {
   "cell_type": "code",
   "execution_count": null,
   "metadata": {
    "id": "0oxbVynHpfDK"
   },
   "outputs": [],
   "source": [
    "command = \"tensorflowjs_converter --input_format=tf_saved_model --output_node_names='detection_boxes,detection_classes,detection_features,detection_multiclass_scores,detection_scores,num_detections,raw_detection_boxes,raw_detection_scores' --output_format=tfjs_graph_model --signature_name=serving_default {} {}\".format(os.path.join(paths['OUTPUT_PATH'], 'saved_model'), paths['TFJS_PATH'])"
   ]
  },
  {
   "cell_type": "code",
   "execution_count": null,
   "metadata": {
    "colab": {
     "base_uri": "https://localhost:8080/"
    },
    "id": "DB2AGNmJpfDK",
    "outputId": "fbc9f747-f511-47e8-df8f-5ea65cef0374"
   },
   "outputs": [],
   "source": [
    "print(command)"
   ]
  },
  {
   "cell_type": "code",
   "execution_count": null,
   "metadata": {
    "colab": {
     "base_uri": "https://localhost:8080/"
    },
    "id": "K7rfT4-hpfDK",
    "outputId": "532707fd-6feb-4bc6-84a3-325b5d16303c"
   },
   "outputs": [],
   "source": [
    "!{command}"
   ]
  },
  {
   "cell_type": "code",
   "execution_count": null,
   "metadata": {
    "id": "o8_hm-itpfDK"
   },
   "outputs": [],
   "source": [
    "# Test Code: https://github.com/nicknochnack/RealTimeSignLanguageDetectionwithTFJS"
   ]
  },
  {
   "cell_type": "markdown",
   "metadata": {
    "id": "VtUw73FHpfDK"
   },
   "source": [
    "# 12. Conversion to TFLite"
   ]
  },
  {
   "cell_type": "code",
   "execution_count": null,
   "metadata": {
    "id": "XviMtewLpfDK"
   },
   "outputs": [],
   "source": [
    "TFLITE_SCRIPT = os.path.join(paths['APIMODEL_PATH'], 'research', 'object_detection', 'export_tflite_graph_tf2.py ')"
   ]
  },
  {
   "cell_type": "code",
   "execution_count": null,
   "metadata": {
    "id": "us86cjC4pfDL"
   },
   "outputs": [],
   "source": [
    "command = \"python {} --pipeline_config_path={} --trained_checkpoint_dir={} --output_directory={}\".format(TFLITE_SCRIPT ,files['PIPELINE_CONFIG'], paths['CHECKPOINT_PATH'], paths['TFLITE_PATH'])"
   ]
  },
  {
   "cell_type": "code",
   "execution_count": null,
   "metadata": {
    "colab": {
     "base_uri": "https://localhost:8080/"
    },
    "id": "n1r5YO3rpfDL",
    "outputId": "5fcdf7a4-eee2-4365-f1ca-1751968379ea"
   },
   "outputs": [],
   "source": [
    "print(command)"
   ]
  },
  {
   "cell_type": "code",
   "execution_count": null,
   "metadata": {
    "colab": {
     "base_uri": "https://localhost:8080/"
    },
    "id": "I-xWpHN8pfDL",
    "outputId": "7f6bacd8-d077-43b5-c131-5b081fba24a4"
   },
   "outputs": [],
   "source": [
    "!{command}"
   ]
  },
  {
   "cell_type": "code",
   "execution_count": null,
   "metadata": {
    "id": "iJfYMbN6pfDL"
   },
   "outputs": [],
   "source": [
    "FROZEN_TFLITE_PATH = os.path.join(paths['TFLITE_PATH'], 'saved_model')\n",
    "TFLITE_MODEL = os.path.join(paths['TFLITE_PATH'], 'saved_model', 'detect.tflite')"
   ]
  },
  {
   "cell_type": "code",
   "execution_count": null,
   "metadata": {},
   "outputs": [],
   "source": [
    "command = \"tflite_convert \\\n",
    "--saved_model_dir={} \\\n",
    "--output_file={} \\\n",
    "--input_shapes=1,300,300,3 \\\n",
    "--input_arrays=normalized_input_image_tensor \\\n",
    "--output_arrays='TFLite_Detection_PostProcess','TFLite_Detection_PostProcess:1','TFLite_Detection_PostProcess:2','TFLite_Detection_PostProcess:3' \\\n",
    "--inference_type=FLOAT \\\n",
    "--allow_custom_ops\".format(FROZEN_TFLITE_PATH, TFLITE_MODEL, )"
   ]
  },
  {
   "cell_type": "code",
   "execution_count": null,
   "metadata": {
    "colab": {
     "base_uri": "https://localhost:8080/"
    },
    "id": "E8GwUeoFpfDL",
    "outputId": "fac43ea4-cc85-471b-a362-e994b06fd583"
   },
   "outputs": [],
   "source": [
    "print(command)"
   ]
  },
  {
   "cell_type": "code",
   "execution_count": null,
   "metadata": {
    "colab": {
     "base_uri": "https://localhost:8080/"
    },
    "id": "Nbd7gqHMpfDL",
    "outputId": "7c8fe6d5-2415-4641-8548-39d425c202f7"
   },
   "outputs": [],
   "source": [
    "!{command}"
   ]
  },
  {
   "cell_type": "markdown",
   "metadata": {
    "id": "5NQqZRdA21Uc"
   },
   "source": [
    "# 13. Zip and Export Models "
   ]
  },
  {
   "cell_type": "code",
   "execution_count": null,
   "metadata": {
    "id": "tTVTGCQp2ZJJ"
   },
   "outputs": [],
   "source": [
    "!tar -czf models.tar.gz {paths['CHECKPOINT_PATH']}"
   ]
  },
  {
   "cell_type": "code",
   "execution_count": null,
   "metadata": {
    "colab": {
     "base_uri": "https://localhost:8080/"
    },
    "id": "whShhB0x3PYJ",
    "outputId": "b773201d-35c9-46a8-b893-4a76bd4d5d97"
   },
   "outputs": [],
   "source": [
    "from google.colab import drive\n",
    "drive.mount('/content/drive')"
   ]
  }
 ],
 "metadata": {
  "accelerator": "GPU",
  "colab": {
   "name": "3. Training and Detection.ipynb",
   "provenance": []
  },
  "kernelspec": {
   "display_name": "anprsys",
   "language": "python",
   "name": "anprsys"
  },
  "language_info": {
   "codemirror_mode": {
    "name": "ipython",
    "version": 3
   },
   "file_extension": ".py",
   "mimetype": "text/x-python",
   "name": "python",
   "nbconvert_exporter": "python",
   "pygments_lexer": "ipython3",
   "version": "3.8.10"
  }
 },
 "nbformat": 4,
 "nbformat_minor": 1
}
